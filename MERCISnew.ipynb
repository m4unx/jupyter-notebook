{
 "cells": [
  {
   "cell_type": "code",
   "execution_count": 1,
   "metadata": {},
   "outputs": [],
   "source": [
    "import os\n",
    "import xlrd\n",
    "import pandas as pd \n",
    "import numpy as np\n",
    "import re"
   ]
  },
  {
   "cell_type": "code",
   "execution_count": 2,
   "metadata": {},
   "outputs": [
    {
     "data": {
      "text/plain": [
       "'C:\\\\Users\\\\S54201'"
      ]
     },
     "execution_count": 2,
     "metadata": {},
     "output_type": "execute_result"
    }
   ],
   "source": [
    "pwd"
   ]
  },
  {
   "cell_type": "code",
   "execution_count": 3,
   "metadata": {},
   "outputs": [],
   "source": [
    "path = 'C:\\\\Users\\S54201\\Downloads\\Automate CCIG Data'"
   ]
  },
  {
   "cell_type": "code",
   "execution_count": 4,
   "metadata": {},
   "outputs": [],
   "source": [
    "os.chdir(path)"
   ]
  },
  {
   "cell_type": "code",
   "execution_count": 5,
   "metadata": {},
   "outputs": [
    {
     "data": {
      "text/plain": [
       "'C:\\\\Users\\\\S54201\\\\Downloads\\\\Automate CCIG Data'"
      ]
     },
     "execution_count": 5,
     "metadata": {},
     "output_type": "execute_result"
    }
   ],
   "source": [
    "pwd"
   ]
  },
  {
   "cell_type": "code",
   "execution_count": 6,
   "metadata": {},
   "outputs": [
    {
     "name": "stderr",
     "output_type": "stream",
     "text": [
      "C:\\Users\\S54201\\Anaconda3\\lib\\site-packages\\openpyxl\\worksheet\\header_footer.py:48: UserWarning: Cannot parse header or footer so it will be ignored\n",
      "  warn(\"\"\"Cannot parse header or footer so it will be ignored\"\"\")\n",
      "C:\\Users\\S54201\\Anaconda3\\lib\\site-packages\\openpyxl\\worksheet\\header_footer.py:48: UserWarning: Cannot parse header or footer so it will be ignored\n",
      "  warn(\"\"\"Cannot parse header or footer so it will be ignored\"\"\")\n"
     ]
    }
   ],
   "source": [
    "t1 = pd.read_excel('Q3 GRM DATA.xlsx', sheet_name = 'CIG DATA')\n",
    "t2 = pd.read_excel('Q4 GRM DATA.xlsx', sheet_name = 'CIG DATA')\n",
    "t_exclude = pd.read_excel('GRM Exclude.xlsx', sheet_name = 'exclude')"
   ]
  },
  {
   "cell_type": "code",
   "execution_count": 7,
   "metadata": {},
   "outputs": [
    {
     "data": {
      "text/html": [
       "<div><div id=ac7d78e2-3efc-4805-8342-82bfadf93dd3 style=\"display:none; background-color:#9D6CFF; color:white; width:200px; height:30px; padding-left:5px; border-radius:4px; flex-direction:row; justify-content:space-around; align-items:center;\" onmouseover=\"this.style.backgroundColor='#BA9BF8'\" onmouseout=\"this.style.backgroundColor='#9D6CFF'\" onclick=\"window.commands?.execute('create-mitosheet-from-dataframe-output');\">See Full Dataframe in Mito</div> <script> if (window.commands.hasCommand('create-mitosheet-from-dataframe-output')) document.getElementById('ac7d78e2-3efc-4805-8342-82bfadf93dd3').style.display = 'flex' </script> <table border=\"1\" class=\"dataframe\">\n",
       "  <thead>\n",
       "    <tr style=\"text-align: right;\">\n",
       "      <th></th>\n",
       "      <th>Risk ID</th>\n",
       "      <th>Specific Risk</th>\n",
       "      <th>tag common risk</th>\n",
       "      <th>Date Identified</th>\n",
       "      <th>Date Created</th>\n",
       "      <th>Risk Status</th>\n",
       "      <th>Entity</th>\n",
       "      <th>Company</th>\n",
       "      <th>Division</th>\n",
       "      <th>Section</th>\n",
       "      <th>...</th>\n",
       "      <th>Comment Approver 1</th>\n",
       "      <th>Last Modified Approver 1</th>\n",
       "      <th>Approver 2</th>\n",
       "      <th>Status Approver 2</th>\n",
       "      <th>Comment Approver 2</th>\n",
       "      <th>Last Modified Approver 2</th>\n",
       "      <th>Prepared By</th>\n",
       "      <th>Prepared By Comment</th>\n",
       "      <th>Chief Risk Coordinator</th>\n",
       "      <th>Incident ID</th>\n",
       "    </tr>\n",
       "  </thead>\n",
       "  <tbody>\n",
       "    <tr>\n",
       "      <th>0</th>\n",
       "      <td>TM.CEMT.CCDF.15.001</td>\n",
       "      <td>Inability to meet customer’s original RFS (Ready For Service) Date for IPVPN</td>\n",
       "      <td>NaN</td>\n",
       "      <td>2014-12-24 03:43:00</td>\n",
       "      <td>NaT</td>\n",
       "      <td>NaN</td>\n",
       "      <td>TM Group</td>\n",
       "      <td>CEMT</td>\n",
       "      <td>CSO - CSOC Data Fulfillment</td>\n",
       "      <td>NaN</td>\n",
       "      <td>...</td>\n",
       "      <td>NaN</td>\n",
       "      <td>NaN</td>\n",
       "      <td>NaN</td>\n",
       "      <td>NaN</td>\n",
       "      <td>NaN</td>\n",
       "      <td>NaN</td>\n",
       "      <td>NaN</td>\n",
       "      <td>NaN</td>\n",
       "      <td>NaN</td>\n",
       "      <td>NaN</td>\n",
       "    </tr>\n",
       "    <tr>\n",
       "      <th>1</th>\n",
       "      <td>TM.ITNT.GIT.15.003</td>\n",
       "      <td>Unavailability of CASS</td>\n",
       "      <td>NaN</td>\n",
       "      <td>2014-12-28 18:32:00</td>\n",
       "      <td>NaT</td>\n",
       "      <td>NaN</td>\n",
       "      <td>TM Group</td>\n",
       "      <td>Group Network Technology</td>\n",
       "      <td>Group Information Technology (GIT)</td>\n",
       "      <td>NaN</td>\n",
       "      <td>...</td>\n",
       "      <td>NaN</td>\n",
       "      <td>NaN</td>\n",
       "      <td>NaN</td>\n",
       "      <td>NaN</td>\n",
       "      <td>NaN</td>\n",
       "      <td>NaN</td>\n",
       "      <td>NaN</td>\n",
       "      <td>NaN</td>\n",
       "      <td>NaN</td>\n",
       "      <td>NaN</td>\n",
       "    </tr>\n",
       "    <tr>\n",
       "      <th>2</th>\n",
       "      <td>TM.GP.FFM.15.006</td>\n",
       "      <td>Discrepancy of Scrap Items – Scrap Cable</td>\n",
       "      <td>NaN</td>\n",
       "      <td>2015-09-22 15:47:00</td>\n",
       "      <td>NaT</td>\n",
       "      <td>NaN</td>\n",
       "      <td>TM Group</td>\n",
       "      <td>Group Procurement</td>\n",
       "      <td>Fulfillment</td>\n",
       "      <td>NaN</td>\n",
       "      <td>...</td>\n",
       "      <td>NaN</td>\n",
       "      <td>NaN</td>\n",
       "      <td>NaN</td>\n",
       "      <td>NaN</td>\n",
       "      <td>NaN</td>\n",
       "      <td>NaN</td>\n",
       "      <td>NaN</td>\n",
       "      <td>NaN</td>\n",
       "      <td>NaN</td>\n",
       "      <td>NaN</td>\n",
       "    </tr>\n",
       "    <tr>\n",
       "      <th>3</th>\n",
       "      <td>TM.GOV.GIT.15.001</td>\n",
       "      <td>Credit Risk</td>\n",
       "      <td>0</td>\n",
       "      <td>2015-05-12 14:53:00</td>\n",
       "      <td>NaT</td>\n",
       "      <td>NaN</td>\n",
       "      <td>TM Group</td>\n",
       "      <td>NaN</td>\n",
       "      <td>GITN Sdn Bhd</td>\n",
       "      <td>Client Services and Management</td>\n",
       "      <td>...</td>\n",
       "      <td>NaN</td>\n",
       "      <td>NaN</td>\n",
       "      <td>GN0380</td>\n",
       "      <td>Approved</td>\n",
       "      <td>NaN</td>\n",
       "      <td>NaN</td>\n",
       "      <td>NaN</td>\n",
       "      <td>NaN</td>\n",
       "      <td>NaN</td>\n",
       "      <td>NaN</td>\n",
       "    </tr>\n",
       "    <tr>\n",
       "      <th>4</th>\n",
       "      <td>TM.GOV.GITN.15.009</td>\n",
       "      <td>Poor Customer Service for IPVPN</td>\n",
       "      <td>NaN</td>\n",
       "      <td>2015-10-09 11:12:00</td>\n",
       "      <td>NaT</td>\n",
       "      <td>NaN</td>\n",
       "      <td>TM Group</td>\n",
       "      <td>Government</td>\n",
       "      <td>GITN Sdn Bhd</td>\n",
       "      <td>Network Services</td>\n",
       "      <td>...</td>\n",
       "      <td>NaN</td>\n",
       "      <td>NaN</td>\n",
       "      <td>S50423</td>\n",
       "      <td>Approved</td>\n",
       "      <td>NaN</td>\n",
       "      <td>NaN</td>\n",
       "      <td>NaN</td>\n",
       "      <td>NaN</td>\n",
       "      <td>NaN</td>\n",
       "      <td>NaN</td>\n",
       "    </tr>\n",
       "  </tbody>\n",
       "</table></div>"
      ],
      "text/plain": [
       "               Risk ID                                      Specific Risk  \\\n",
       "0  TM.CEMT.CCDF.15.001  Inability to meet customer’s original RFS (Rea...   \n",
       "1   TM.ITNT.GIT.15.003                             Unavailability of CASS   \n",
       "2     TM.GP.FFM.15.006           Discrepancy of Scrap Items – Scrap Cable   \n",
       "3    TM.GOV.GIT.15.001                                        Credit Risk   \n",
       "4   TM.GOV.GITN.15.009                    Poor Customer Service for IPVPN   \n",
       "\n",
       "  tag common risk     Date Identified Date Created  Risk Status    Entity  \\\n",
       "0             NaN 2014-12-24 03:43:00          NaT          NaN  TM Group   \n",
       "1             NaN 2014-12-28 18:32:00          NaT          NaN  TM Group   \n",
       "2             NaN 2015-09-22 15:47:00          NaT          NaN  TM Group   \n",
       "3               0 2015-05-12 14:53:00          NaT          NaN  TM Group   \n",
       "4             NaN 2015-10-09 11:12:00          NaT          NaN  TM Group   \n",
       "\n",
       "                    Company                            Division  \\\n",
       "0                      CEMT         CSO - CSOC Data Fulfillment   \n",
       "1  Group Network Technology  Group Information Technology (GIT)   \n",
       "2         Group Procurement                         Fulfillment   \n",
       "3                       NaN                        GITN Sdn Bhd   \n",
       "4                Government                        GITN Sdn Bhd   \n",
       "\n",
       "                          Section  ... Comment Approver 1  \\\n",
       "0                             NaN  ...                NaN   \n",
       "1                             NaN  ...                NaN   \n",
       "2                             NaN  ...                NaN   \n",
       "3  Client Services and Management  ...                NaN   \n",
       "4                Network Services  ...                NaN   \n",
       "\n",
       "  Last Modified Approver 1 Approver 2  Status Approver 2  Comment Approver 2  \\\n",
       "0                      NaN        NaN                NaN                 NaN   \n",
       "1                      NaN        NaN                NaN                 NaN   \n",
       "2                      NaN        NaN                NaN                 NaN   \n",
       "3                      NaN     GN0380           Approved                 NaN   \n",
       "4                      NaN     S50423           Approved                 NaN   \n",
       "\n",
       "   Last Modified Approver 2 Prepared By  Prepared By Comment  \\\n",
       "0                       NaN         NaN                  NaN   \n",
       "1                       NaN         NaN                  NaN   \n",
       "2                       NaN         NaN                  NaN   \n",
       "3                       NaN         NaN                  NaN   \n",
       "4                       NaN         NaN                  NaN   \n",
       "\n",
       "  Chief Risk Coordinator  Incident ID  \n",
       "0                    NaN          NaN  \n",
       "1                    NaN          NaN  \n",
       "2                    NaN          NaN  \n",
       "3                    NaN          NaN  \n",
       "4                    NaN          NaN  \n",
       "\n",
       "[5 rows x 127 columns]"
      ]
     },
     "execution_count": 7,
     "metadata": {},
     "output_type": "execute_result"
    }
   ],
   "source": [
    "t1.head()"
   ]
  },
  {
   "cell_type": "code",
   "execution_count": 8,
   "metadata": {},
   "outputs": [
    {
     "data": {
      "text/plain": [
       "0             209\n",
       "Corruption     65\n",
       "OSHE           16\n",
       "EXCLUDE         9\n",
       "INTEGRITY       8\n",
       "GOVERNANCE      4\n",
       "exclude         1\n",
       "CORPORATE       1\n",
       "Name: tag common risk, dtype: int64"
      ]
     },
     "execution_count": 8,
     "metadata": {},
     "output_type": "execute_result"
    }
   ],
   "source": [
    "t1['tag common risk'].value_counts()"
   ]
  },
  {
   "cell_type": "code",
   "execution_count": 9,
   "metadata": {},
   "outputs": [
    {
     "data": {
      "text/plain": [
       "pandas.core.series.Series"
      ]
     },
     "execution_count": 9,
     "metadata": {},
     "output_type": "execute_result"
    }
   ],
   "source": [
    "type(t1['tag common risk'])"
   ]
  },
  {
   "cell_type": "code",
   "execution_count": 10,
   "metadata": {},
   "outputs": [],
   "source": [
    "t1['tag common risk'] = t1['tag common risk'].str.lower()"
   ]
  },
  {
   "cell_type": "code",
   "execution_count": 11,
   "metadata": {},
   "outputs": [
    {
     "data": {
      "text/plain": [
       "corruption    65\n",
       "oshe          16\n",
       "exclude       10\n",
       "integrity      8\n",
       "governance     4\n",
       "corporate      1\n",
       "Name: tag common risk, dtype: int64"
      ]
     },
     "execution_count": 11,
     "metadata": {},
     "output_type": "execute_result"
    }
   ],
   "source": [
    "t1['tag common risk'].value_counts()"
   ]
  },
  {
   "cell_type": "code",
   "execution_count": 12,
   "metadata": {},
   "outputs": [
    {
     "data": {
      "text/html": [
       "<div><div id=8d9412b6-9d76-414e-a388-bbb4ae992061 style=\"display:none; background-color:#9D6CFF; color:white; width:200px; height:30px; padding-left:5px; border-radius:4px; flex-direction:row; justify-content:space-around; align-items:center;\" onmouseover=\"this.style.backgroundColor='#BA9BF8'\" onmouseout=\"this.style.backgroundColor='#9D6CFF'\" onclick=\"window.commands?.execute('create-mitosheet-from-dataframe-output');\">See Full Dataframe in Mito</div> <script> if (window.commands.hasCommand('create-mitosheet-from-dataframe-output')) document.getElementById('8d9412b6-9d76-414e-a388-bbb4ae992061').style.display = 'flex' </script> <table border=\"1\" class=\"dataframe\">\n",
       "  <thead>\n",
       "    <tr style=\"text-align: right;\">\n",
       "      <th></th>\n",
       "      <th>Risk ID</th>\n",
       "      <th>Specific Risk</th>\n",
       "      <th>find sept tagging</th>\n",
       "      <th>Date Identified</th>\n",
       "      <th>Date Created</th>\n",
       "      <th>Risk Status</th>\n",
       "      <th>Entity</th>\n",
       "      <th>Company</th>\n",
       "      <th>Division</th>\n",
       "      <th>Section</th>\n",
       "      <th>...</th>\n",
       "      <th>Comment Approver 1</th>\n",
       "      <th>Last Modified Approver 1</th>\n",
       "      <th>Approver 2</th>\n",
       "      <th>Status Approver 2</th>\n",
       "      <th>Comment Approver 2</th>\n",
       "      <th>Last Modified Approver 2</th>\n",
       "      <th>Prepared By</th>\n",
       "      <th>Prepared By Comment</th>\n",
       "      <th>Chief Risk Coordinator</th>\n",
       "      <th>Incident ID</th>\n",
       "    </tr>\n",
       "  </thead>\n",
       "  <tbody>\n",
       "    <tr>\n",
       "      <th>0</th>\n",
       "      <td>TM.CEMT.CCDF.15.001</td>\n",
       "      <td>Inability to meet customer’s original RFS (Ready For Service) Date for IPVPN</td>\n",
       "      <td>NaN</td>\n",
       "      <td>2014-12-24 03:43:00</td>\n",
       "      <td>NaT</td>\n",
       "      <td>NaN</td>\n",
       "      <td>TM Group</td>\n",
       "      <td>CEMT</td>\n",
       "      <td>CSO - CSOC Data Fulfillment</td>\n",
       "      <td>NaN</td>\n",
       "      <td>...</td>\n",
       "      <td>NaN</td>\n",
       "      <td>NaN</td>\n",
       "      <td>NaN</td>\n",
       "      <td>NaN</td>\n",
       "      <td>NaN</td>\n",
       "      <td>NaN</td>\n",
       "      <td>NaN</td>\n",
       "      <td>NaN</td>\n",
       "      <td>NaN</td>\n",
       "      <td>NaN</td>\n",
       "    </tr>\n",
       "    <tr>\n",
       "      <th>1</th>\n",
       "      <td>TM.ITNT.GIT.15.003</td>\n",
       "      <td>Unavailability of CASS</td>\n",
       "      <td>NaN</td>\n",
       "      <td>2014-12-28 18:32:00</td>\n",
       "      <td>NaT</td>\n",
       "      <td>NaN</td>\n",
       "      <td>TM Group</td>\n",
       "      <td>Group Network Technology</td>\n",
       "      <td>Group Information Technology (GIT)</td>\n",
       "      <td>NaN</td>\n",
       "      <td>...</td>\n",
       "      <td>NaN</td>\n",
       "      <td>NaN</td>\n",
       "      <td>NaN</td>\n",
       "      <td>NaN</td>\n",
       "      <td>NaN</td>\n",
       "      <td>NaN</td>\n",
       "      <td>NaN</td>\n",
       "      <td>NaN</td>\n",
       "      <td>NaN</td>\n",
       "      <td>NaN</td>\n",
       "    </tr>\n",
       "    <tr>\n",
       "      <th>2</th>\n",
       "      <td>TM.GP.FFM.15.006</td>\n",
       "      <td>Discrepancy of Scrap Items – Scrap Cable</td>\n",
       "      <td>NaN</td>\n",
       "      <td>2015-09-22 15:47:00</td>\n",
       "      <td>NaT</td>\n",
       "      <td>NaN</td>\n",
       "      <td>TM Group</td>\n",
       "      <td>Group Procurement</td>\n",
       "      <td>Fulfillment</td>\n",
       "      <td>NaN</td>\n",
       "      <td>...</td>\n",
       "      <td>NaN</td>\n",
       "      <td>NaN</td>\n",
       "      <td>NaN</td>\n",
       "      <td>NaN</td>\n",
       "      <td>NaN</td>\n",
       "      <td>NaN</td>\n",
       "      <td>NaN</td>\n",
       "      <td>NaN</td>\n",
       "      <td>NaN</td>\n",
       "      <td>NaN</td>\n",
       "    </tr>\n",
       "    <tr>\n",
       "      <th>3</th>\n",
       "      <td>TM.GOV.GIT.15.001</td>\n",
       "      <td>Credit Risk</td>\n",
       "      <td>0</td>\n",
       "      <td>2015-05-12 14:53:00</td>\n",
       "      <td>NaT</td>\n",
       "      <td>NaN</td>\n",
       "      <td>TM Group</td>\n",
       "      <td>NaN</td>\n",
       "      <td>GITN Sdn Bhd</td>\n",
       "      <td>Client Services and Management</td>\n",
       "      <td>...</td>\n",
       "      <td>NaN</td>\n",
       "      <td>NaN</td>\n",
       "      <td>GN0380</td>\n",
       "      <td>Approved</td>\n",
       "      <td>NaN</td>\n",
       "      <td>NaN</td>\n",
       "      <td>NaN</td>\n",
       "      <td>NaN</td>\n",
       "      <td>NaN</td>\n",
       "      <td>NaN</td>\n",
       "    </tr>\n",
       "    <tr>\n",
       "      <th>4</th>\n",
       "      <td>TM.GOV.GITN.15.009</td>\n",
       "      <td>Poor Customer Service for IPVPN</td>\n",
       "      <td>NaN</td>\n",
       "      <td>2015-10-09 11:12:00</td>\n",
       "      <td>NaT</td>\n",
       "      <td>NaN</td>\n",
       "      <td>TM Group</td>\n",
       "      <td>Government</td>\n",
       "      <td>GITN Sdn Bhd</td>\n",
       "      <td>Network Services</td>\n",
       "      <td>...</td>\n",
       "      <td>NaN</td>\n",
       "      <td>NaN</td>\n",
       "      <td>S50423</td>\n",
       "      <td>Approved</td>\n",
       "      <td>NaN</td>\n",
       "      <td>NaN</td>\n",
       "      <td>NaN</td>\n",
       "      <td>NaN</td>\n",
       "      <td>NaN</td>\n",
       "      <td>NaN</td>\n",
       "    </tr>\n",
       "  </tbody>\n",
       "</table></div>"
      ],
      "text/plain": [
       "               Risk ID                                      Specific Risk  \\\n",
       "0  TM.CEMT.CCDF.15.001  Inability to meet customer’s original RFS (Rea...   \n",
       "1   TM.ITNT.GIT.15.003                             Unavailability of CASS   \n",
       "2     TM.GP.FFM.15.006           Discrepancy of Scrap Items – Scrap Cable   \n",
       "3    TM.GOV.GIT.15.001                                        Credit Risk   \n",
       "4   TM.GOV.GITN.15.009                    Poor Customer Service for IPVPN   \n",
       "\n",
       "  find sept tagging     Date Identified Date Created  Risk Status    Entity  \\\n",
       "0               NaN 2014-12-24 03:43:00          NaT          NaN  TM Group   \n",
       "1               NaN 2014-12-28 18:32:00          NaT          NaN  TM Group   \n",
       "2               NaN 2015-09-22 15:47:00          NaT          NaN  TM Group   \n",
       "3                 0 2015-05-12 14:53:00          NaT          NaN  TM Group   \n",
       "4               NaN 2015-10-09 11:12:00          NaT          NaN  TM Group   \n",
       "\n",
       "                    Company                            Division  \\\n",
       "0                      CEMT         CSO - CSOC Data Fulfillment   \n",
       "1  Group Network Technology  Group Information Technology (GIT)   \n",
       "2         Group Procurement                         Fulfillment   \n",
       "3                       NaN                        GITN Sdn Bhd   \n",
       "4                Government                        GITN Sdn Bhd   \n",
       "\n",
       "                          Section  ... Comment Approver 1  \\\n",
       "0                             NaN  ...                NaN   \n",
       "1                             NaN  ...                NaN   \n",
       "2                             NaN  ...                NaN   \n",
       "3  Client Services and Management  ...                NaN   \n",
       "4                Network Services  ...                NaN   \n",
       "\n",
       "  Last Modified Approver 1 Approver 2  Status Approver 2  Comment Approver 2  \\\n",
       "0                      NaN        NaN                NaN                 NaN   \n",
       "1                      NaN        NaN                NaN                 NaN   \n",
       "2                      NaN        NaN                NaN                 NaN   \n",
       "3                      NaN     GN0380           Approved                 NaN   \n",
       "4                      NaN     S50423           Approved                 NaN   \n",
       "\n",
       "   Last Modified Approver 2 Prepared By  Prepared By Comment  \\\n",
       "0                       NaN         NaN                  NaN   \n",
       "1                       NaN         NaN                  NaN   \n",
       "2                       NaN         NaN                  NaN   \n",
       "3                       NaN         NaN                  NaN   \n",
       "4                       NaN         NaN                  NaN   \n",
       "\n",
       "  Chief Risk Coordinator  Incident ID  \n",
       "0                    NaN          NaN  \n",
       "1                    NaN          NaN  \n",
       "2                    NaN          NaN  \n",
       "3                    NaN          NaN  \n",
       "4                    NaN          NaN  \n",
       "\n",
       "[5 rows x 127 columns]"
      ]
     },
     "execution_count": 12,
     "metadata": {},
     "output_type": "execute_result"
    }
   ],
   "source": [
    "t2.head()"
   ]
  },
  {
   "cell_type": "code",
   "execution_count": 13,
   "metadata": {},
   "outputs": [],
   "source": [
    "t2 = t2.rename(columns={'find sept tagging':'tag common risk'})"
   ]
  },
  {
   "cell_type": "code",
   "execution_count": 14,
   "metadata": {},
   "outputs": [
    {
     "data": {
      "text/plain": [
       "0             209\n",
       "Corruption     77\n",
       "INTEGRITY      19\n",
       "OSHE           16\n",
       "EXCLUDE         9\n",
       "GOVERNANCE      8\n",
       "exclude         1\n",
       "CORPORATE       1\n",
       "Name: tag common risk, dtype: int64"
      ]
     },
     "execution_count": 14,
     "metadata": {},
     "output_type": "execute_result"
    }
   ],
   "source": [
    "t2['tag common risk'].value_counts()"
   ]
  },
  {
   "cell_type": "code",
   "execution_count": 15,
   "metadata": {},
   "outputs": [],
   "source": [
    "t2['tag common risk'] = t2['tag common risk'].str.lower()"
   ]
  },
  {
   "cell_type": "code",
   "execution_count": 16,
   "metadata": {},
   "outputs": [
    {
     "data": {
      "text/plain": [
       "corruption    77\n",
       "integrity     19\n",
       "oshe          16\n",
       "exclude       10\n",
       "governance     8\n",
       "corporate      1\n",
       "Name: tag common risk, dtype: int64"
      ]
     },
     "execution_count": 16,
     "metadata": {},
     "output_type": "execute_result"
    }
   ],
   "source": [
    "t2['tag common risk'].value_counts()"
   ]
  },
  {
   "cell_type": "code",
   "execution_count": 17,
   "metadata": {},
   "outputs": [],
   "source": [
    "df = pd.concat([t1,t2], keys=['Q32021', 'Q42021'], names=['Quarter', 'Row ID'])"
   ]
  },
  {
   "cell_type": "code",
   "execution_count": 18,
   "metadata": {},
   "outputs": [
    {
     "data": {
      "text/html": [
       "<div><div id=3a34ed2f-f82a-424a-bc52-96d8b8227bfd style=\"display:none; background-color:#9D6CFF; color:white; width:200px; height:30px; padding-left:5px; border-radius:4px; flex-direction:row; justify-content:space-around; align-items:center;\" onmouseover=\"this.style.backgroundColor='#BA9BF8'\" onmouseout=\"this.style.backgroundColor='#9D6CFF'\" onclick=\"window.commands?.execute('create-mitosheet-from-dataframe-output');\">See Full Dataframe in Mito</div> <script> if (window.commands.hasCommand('create-mitosheet-from-dataframe-output')) document.getElementById('3a34ed2f-f82a-424a-bc52-96d8b8227bfd').style.display = 'flex' </script> <table border=\"1\" class=\"dataframe\">\n",
       "  <thead>\n",
       "    <tr style=\"text-align: right;\">\n",
       "      <th></th>\n",
       "      <th></th>\n",
       "      <th>Risk ID</th>\n",
       "      <th>Specific Risk</th>\n",
       "      <th>tag common risk</th>\n",
       "      <th>Date Identified</th>\n",
       "      <th>Date Created</th>\n",
       "      <th>Risk Status</th>\n",
       "      <th>Entity</th>\n",
       "      <th>Company</th>\n",
       "      <th>Division</th>\n",
       "      <th>Section</th>\n",
       "      <th>...</th>\n",
       "      <th>Comment Approver 1</th>\n",
       "      <th>Last Modified Approver 1</th>\n",
       "      <th>Approver 2</th>\n",
       "      <th>Status Approver 2</th>\n",
       "      <th>Comment Approver 2</th>\n",
       "      <th>Last Modified Approver 2</th>\n",
       "      <th>Prepared By</th>\n",
       "      <th>Prepared By Comment</th>\n",
       "      <th>Chief Risk Coordinator</th>\n",
       "      <th>Incident ID</th>\n",
       "    </tr>\n",
       "    <tr>\n",
       "      <th>Quarter</th>\n",
       "      <th>Row ID</th>\n",
       "      <th></th>\n",
       "      <th></th>\n",
       "      <th></th>\n",
       "      <th></th>\n",
       "      <th></th>\n",
       "      <th></th>\n",
       "      <th></th>\n",
       "      <th></th>\n",
       "      <th></th>\n",
       "      <th></th>\n",
       "      <th></th>\n",
       "      <th></th>\n",
       "      <th></th>\n",
       "      <th></th>\n",
       "      <th></th>\n",
       "      <th></th>\n",
       "      <th></th>\n",
       "      <th></th>\n",
       "      <th></th>\n",
       "      <th></th>\n",
       "      <th></th>\n",
       "    </tr>\n",
       "  </thead>\n",
       "  <tbody>\n",
       "    <tr>\n",
       "      <th rowspan=\"5\" valign=\"top\">Q32021</th>\n",
       "      <th>0</th>\n",
       "      <td>TM.CEMT.CCDF.15.001</td>\n",
       "      <td>Inability to meet customer’s original RFS (Ready For Service) Date for IPVPN</td>\n",
       "      <td>NaN</td>\n",
       "      <td>2014-12-24 03:43:00</td>\n",
       "      <td>NaT</td>\n",
       "      <td>NaN</td>\n",
       "      <td>TM Group</td>\n",
       "      <td>CEMT</td>\n",
       "      <td>CSO - CSOC Data Fulfillment</td>\n",
       "      <td>NaN</td>\n",
       "      <td>...</td>\n",
       "      <td>NaN</td>\n",
       "      <td>NaN</td>\n",
       "      <td>NaN</td>\n",
       "      <td>NaN</td>\n",
       "      <td>NaN</td>\n",
       "      <td>NaN</td>\n",
       "      <td>NaN</td>\n",
       "      <td>NaN</td>\n",
       "      <td>NaN</td>\n",
       "      <td>NaN</td>\n",
       "    </tr>\n",
       "    <tr>\n",
       "      <th>1</th>\n",
       "      <td>TM.ITNT.GIT.15.003</td>\n",
       "      <td>Unavailability of CASS</td>\n",
       "      <td>NaN</td>\n",
       "      <td>2014-12-28 18:32:00</td>\n",
       "      <td>NaT</td>\n",
       "      <td>NaN</td>\n",
       "      <td>TM Group</td>\n",
       "      <td>Group Network Technology</td>\n",
       "      <td>Group Information Technology (GIT)</td>\n",
       "      <td>NaN</td>\n",
       "      <td>...</td>\n",
       "      <td>NaN</td>\n",
       "      <td>NaN</td>\n",
       "      <td>NaN</td>\n",
       "      <td>NaN</td>\n",
       "      <td>NaN</td>\n",
       "      <td>NaN</td>\n",
       "      <td>NaN</td>\n",
       "      <td>NaN</td>\n",
       "      <td>NaN</td>\n",
       "      <td>NaN</td>\n",
       "    </tr>\n",
       "    <tr>\n",
       "      <th>2</th>\n",
       "      <td>TM.GP.FFM.15.006</td>\n",
       "      <td>Discrepancy of Scrap Items – Scrap Cable</td>\n",
       "      <td>NaN</td>\n",
       "      <td>2015-09-22 15:47:00</td>\n",
       "      <td>NaT</td>\n",
       "      <td>NaN</td>\n",
       "      <td>TM Group</td>\n",
       "      <td>Group Procurement</td>\n",
       "      <td>Fulfillment</td>\n",
       "      <td>NaN</td>\n",
       "      <td>...</td>\n",
       "      <td>NaN</td>\n",
       "      <td>NaN</td>\n",
       "      <td>NaN</td>\n",
       "      <td>NaN</td>\n",
       "      <td>NaN</td>\n",
       "      <td>NaN</td>\n",
       "      <td>NaN</td>\n",
       "      <td>NaN</td>\n",
       "      <td>NaN</td>\n",
       "      <td>NaN</td>\n",
       "    </tr>\n",
       "    <tr>\n",
       "      <th>3</th>\n",
       "      <td>TM.GOV.GIT.15.001</td>\n",
       "      <td>Credit Risk</td>\n",
       "      <td>NaN</td>\n",
       "      <td>2015-05-12 14:53:00</td>\n",
       "      <td>NaT</td>\n",
       "      <td>NaN</td>\n",
       "      <td>TM Group</td>\n",
       "      <td>NaN</td>\n",
       "      <td>GITN Sdn Bhd</td>\n",
       "      <td>Client Services and Management</td>\n",
       "      <td>...</td>\n",
       "      <td>NaN</td>\n",
       "      <td>NaN</td>\n",
       "      <td>GN0380</td>\n",
       "      <td>Approved</td>\n",
       "      <td>NaN</td>\n",
       "      <td>NaN</td>\n",
       "      <td>NaN</td>\n",
       "      <td>NaN</td>\n",
       "      <td>NaN</td>\n",
       "      <td>NaN</td>\n",
       "    </tr>\n",
       "    <tr>\n",
       "      <th>4</th>\n",
       "      <td>TM.GOV.GITN.15.009</td>\n",
       "      <td>Poor Customer Service for IPVPN</td>\n",
       "      <td>NaN</td>\n",
       "      <td>2015-10-09 11:12:00</td>\n",
       "      <td>NaT</td>\n",
       "      <td>NaN</td>\n",
       "      <td>TM Group</td>\n",
       "      <td>Government</td>\n",
       "      <td>GITN Sdn Bhd</td>\n",
       "      <td>Network Services</td>\n",
       "      <td>...</td>\n",
       "      <td>NaN</td>\n",
       "      <td>NaN</td>\n",
       "      <td>S50423</td>\n",
       "      <td>Approved</td>\n",
       "      <td>NaN</td>\n",
       "      <td>NaN</td>\n",
       "      <td>NaN</td>\n",
       "      <td>NaN</td>\n",
       "      <td>NaN</td>\n",
       "      <td>NaN</td>\n",
       "    </tr>\n",
       "  </tbody>\n",
       "</table></div>"
      ],
      "text/plain": [
       "                            Risk ID  \\\n",
       "Quarter Row ID                        \n",
       "Q32021  0       TM.CEMT.CCDF.15.001   \n",
       "        1        TM.ITNT.GIT.15.003   \n",
       "        2          TM.GP.FFM.15.006   \n",
       "        3         TM.GOV.GIT.15.001   \n",
       "        4        TM.GOV.GITN.15.009   \n",
       "\n",
       "                                                    Specific Risk  \\\n",
       "Quarter Row ID                                                      \n",
       "Q32021  0       Inability to meet customer’s original RFS (Rea...   \n",
       "        1                                  Unavailability of CASS   \n",
       "        2                Discrepancy of Scrap Items – Scrap Cable   \n",
       "        3                                             Credit Risk   \n",
       "        4                         Poor Customer Service for IPVPN   \n",
       "\n",
       "               tag common risk     Date Identified Date Created  Risk Status  \\\n",
       "Quarter Row ID                                                                 \n",
       "Q32021  0                  NaN 2014-12-24 03:43:00          NaT          NaN   \n",
       "        1                  NaN 2014-12-28 18:32:00          NaT          NaN   \n",
       "        2                  NaN 2015-09-22 15:47:00          NaT          NaN   \n",
       "        3                  NaN 2015-05-12 14:53:00          NaT          NaN   \n",
       "        4                  NaN 2015-10-09 11:12:00          NaT          NaN   \n",
       "\n",
       "                  Entity                   Company  \\\n",
       "Quarter Row ID                                       \n",
       "Q32021  0       TM Group                      CEMT   \n",
       "        1       TM Group  Group Network Technology   \n",
       "        2       TM Group         Group Procurement   \n",
       "        3       TM Group                       NaN   \n",
       "        4       TM Group                Government   \n",
       "\n",
       "                                          Division  \\\n",
       "Quarter Row ID                                       \n",
       "Q32021  0              CSO - CSOC Data Fulfillment   \n",
       "        1       Group Information Technology (GIT)   \n",
       "        2                              Fulfillment   \n",
       "        3                             GITN Sdn Bhd   \n",
       "        4                             GITN Sdn Bhd   \n",
       "\n",
       "                                       Section  ... Comment Approver 1  \\\n",
       "Quarter Row ID                                  ...                      \n",
       "Q32021  0                                  NaN  ...                NaN   \n",
       "        1                                  NaN  ...                NaN   \n",
       "        2                                  NaN  ...                NaN   \n",
       "        3       Client Services and Management  ...                NaN   \n",
       "        4                     Network Services  ...                NaN   \n",
       "\n",
       "               Last Modified Approver 1 Approver 2  Status Approver 2  \\\n",
       "Quarter Row ID                                                          \n",
       "Q32021  0                           NaN        NaN                NaN   \n",
       "        1                           NaN        NaN                NaN   \n",
       "        2                           NaN        NaN                NaN   \n",
       "        3                           NaN     GN0380           Approved   \n",
       "        4                           NaN     S50423           Approved   \n",
       "\n",
       "                Comment Approver 2  Last Modified Approver 2 Prepared By  \\\n",
       "Quarter Row ID                                                             \n",
       "Q32021  0                      NaN                       NaN         NaN   \n",
       "        1                      NaN                       NaN         NaN   \n",
       "        2                      NaN                       NaN         NaN   \n",
       "        3                      NaN                       NaN         NaN   \n",
       "        4                      NaN                       NaN         NaN   \n",
       "\n",
       "                Prepared By Comment Chief Risk Coordinator  Incident ID  \n",
       "Quarter Row ID                                                           \n",
       "Q32021  0                       NaN                    NaN          NaN  \n",
       "        1                       NaN                    NaN          NaN  \n",
       "        2                       NaN                    NaN          NaN  \n",
       "        3                       NaN                    NaN          NaN  \n",
       "        4                       NaN                    NaN          NaN  \n",
       "\n",
       "[5 rows x 127 columns]"
      ]
     },
     "execution_count": 18,
     "metadata": {},
     "output_type": "execute_result"
    }
   ],
   "source": [
    "df.head()"
   ]
  },
  {
   "cell_type": "code",
   "execution_count": 19,
   "metadata": {},
   "outputs": [
    {
     "data": {
      "text/plain": [
       "(1970, 127)"
      ]
     },
     "execution_count": 19,
     "metadata": {},
     "output_type": "execute_result"
    }
   ],
   "source": [
    "df.shape"
   ]
  },
  {
   "cell_type": "code",
   "execution_count": 20,
   "metadata": {},
   "outputs": [
    {
     "data": {
      "text/plain": [
       "(1970,)"
      ]
     },
     "execution_count": 20,
     "metadata": {},
     "output_type": "execute_result"
    }
   ],
   "source": [
    "df['tag common risk'].shape"
   ]
  },
  {
   "cell_type": "code",
   "execution_count": 21,
   "metadata": {},
   "outputs": [],
   "source": [
    "df.reset_index(inplace=True)"
   ]
  },
  {
   "cell_type": "code",
   "execution_count": 22,
   "metadata": {},
   "outputs": [
    {
     "data": {
      "text/html": [
       "<div><div id=85481d71-f40e-4cf7-878e-8b80b370a90a style=\"display:none; background-color:#9D6CFF; color:white; width:200px; height:30px; padding-left:5px; border-radius:4px; flex-direction:row; justify-content:space-around; align-items:center;\" onmouseover=\"this.style.backgroundColor='#BA9BF8'\" onmouseout=\"this.style.backgroundColor='#9D6CFF'\" onclick=\"window.commands?.execute('create-mitosheet-from-dataframe-output');\">See Full Dataframe in Mito</div> <script> if (window.commands.hasCommand('create-mitosheet-from-dataframe-output')) document.getElementById('85481d71-f40e-4cf7-878e-8b80b370a90a').style.display = 'flex' </script> <table border=\"1\" class=\"dataframe\">\n",
       "  <thead>\n",
       "    <tr style=\"text-align: right;\">\n",
       "      <th></th>\n",
       "      <th>Quarter</th>\n",
       "      <th>Row ID</th>\n",
       "      <th>Risk ID</th>\n",
       "      <th>Specific Risk</th>\n",
       "      <th>tag common risk</th>\n",
       "      <th>Date Identified</th>\n",
       "      <th>Date Created</th>\n",
       "      <th>Risk Status</th>\n",
       "      <th>Entity</th>\n",
       "      <th>Company</th>\n",
       "      <th>...</th>\n",
       "      <th>Comment Approver 1</th>\n",
       "      <th>Last Modified Approver 1</th>\n",
       "      <th>Approver 2</th>\n",
       "      <th>Status Approver 2</th>\n",
       "      <th>Comment Approver 2</th>\n",
       "      <th>Last Modified Approver 2</th>\n",
       "      <th>Prepared By</th>\n",
       "      <th>Prepared By Comment</th>\n",
       "      <th>Chief Risk Coordinator</th>\n",
       "      <th>Incident ID</th>\n",
       "    </tr>\n",
       "  </thead>\n",
       "  <tbody>\n",
       "    <tr>\n",
       "      <th>0</th>\n",
       "      <td>Q32021</td>\n",
       "      <td>0</td>\n",
       "      <td>TM.CEMT.CCDF.15.001</td>\n",
       "      <td>Inability to meet customer’s original RFS (Ready For Service) Date for IPVPN</td>\n",
       "      <td>NaN</td>\n",
       "      <td>2014-12-24 03:43:00</td>\n",
       "      <td>NaT</td>\n",
       "      <td>NaN</td>\n",
       "      <td>TM Group</td>\n",
       "      <td>CEMT</td>\n",
       "      <td>...</td>\n",
       "      <td>NaN</td>\n",
       "      <td>NaN</td>\n",
       "      <td>NaN</td>\n",
       "      <td>NaN</td>\n",
       "      <td>NaN</td>\n",
       "      <td>NaN</td>\n",
       "      <td>NaN</td>\n",
       "      <td>NaN</td>\n",
       "      <td>NaN</td>\n",
       "      <td>NaN</td>\n",
       "    </tr>\n",
       "    <tr>\n",
       "      <th>1</th>\n",
       "      <td>Q32021</td>\n",
       "      <td>1</td>\n",
       "      <td>TM.ITNT.GIT.15.003</td>\n",
       "      <td>Unavailability of CASS</td>\n",
       "      <td>NaN</td>\n",
       "      <td>2014-12-28 18:32:00</td>\n",
       "      <td>NaT</td>\n",
       "      <td>NaN</td>\n",
       "      <td>TM Group</td>\n",
       "      <td>Group Network Technology</td>\n",
       "      <td>...</td>\n",
       "      <td>NaN</td>\n",
       "      <td>NaN</td>\n",
       "      <td>NaN</td>\n",
       "      <td>NaN</td>\n",
       "      <td>NaN</td>\n",
       "      <td>NaN</td>\n",
       "      <td>NaN</td>\n",
       "      <td>NaN</td>\n",
       "      <td>NaN</td>\n",
       "      <td>NaN</td>\n",
       "    </tr>\n",
       "    <tr>\n",
       "      <th>2</th>\n",
       "      <td>Q32021</td>\n",
       "      <td>2</td>\n",
       "      <td>TM.GP.FFM.15.006</td>\n",
       "      <td>Discrepancy of Scrap Items – Scrap Cable</td>\n",
       "      <td>NaN</td>\n",
       "      <td>2015-09-22 15:47:00</td>\n",
       "      <td>NaT</td>\n",
       "      <td>NaN</td>\n",
       "      <td>TM Group</td>\n",
       "      <td>Group Procurement</td>\n",
       "      <td>...</td>\n",
       "      <td>NaN</td>\n",
       "      <td>NaN</td>\n",
       "      <td>NaN</td>\n",
       "      <td>NaN</td>\n",
       "      <td>NaN</td>\n",
       "      <td>NaN</td>\n",
       "      <td>NaN</td>\n",
       "      <td>NaN</td>\n",
       "      <td>NaN</td>\n",
       "      <td>NaN</td>\n",
       "    </tr>\n",
       "    <tr>\n",
       "      <th>3</th>\n",
       "      <td>Q32021</td>\n",
       "      <td>3</td>\n",
       "      <td>TM.GOV.GIT.15.001</td>\n",
       "      <td>Credit Risk</td>\n",
       "      <td>NaN</td>\n",
       "      <td>2015-05-12 14:53:00</td>\n",
       "      <td>NaT</td>\n",
       "      <td>NaN</td>\n",
       "      <td>TM Group</td>\n",
       "      <td>NaN</td>\n",
       "      <td>...</td>\n",
       "      <td>NaN</td>\n",
       "      <td>NaN</td>\n",
       "      <td>GN0380</td>\n",
       "      <td>Approved</td>\n",
       "      <td>NaN</td>\n",
       "      <td>NaN</td>\n",
       "      <td>NaN</td>\n",
       "      <td>NaN</td>\n",
       "      <td>NaN</td>\n",
       "      <td>NaN</td>\n",
       "    </tr>\n",
       "    <tr>\n",
       "      <th>4</th>\n",
       "      <td>Q32021</td>\n",
       "      <td>4</td>\n",
       "      <td>TM.GOV.GITN.15.009</td>\n",
       "      <td>Poor Customer Service for IPVPN</td>\n",
       "      <td>NaN</td>\n",
       "      <td>2015-10-09 11:12:00</td>\n",
       "      <td>NaT</td>\n",
       "      <td>NaN</td>\n",
       "      <td>TM Group</td>\n",
       "      <td>Government</td>\n",
       "      <td>...</td>\n",
       "      <td>NaN</td>\n",
       "      <td>NaN</td>\n",
       "      <td>S50423</td>\n",
       "      <td>Approved</td>\n",
       "      <td>NaN</td>\n",
       "      <td>NaN</td>\n",
       "      <td>NaN</td>\n",
       "      <td>NaN</td>\n",
       "      <td>NaN</td>\n",
       "      <td>NaN</td>\n",
       "    </tr>\n",
       "  </tbody>\n",
       "</table></div>"
      ],
      "text/plain": [
       "  Quarter  Row ID              Risk ID  \\\n",
       "0  Q32021       0  TM.CEMT.CCDF.15.001   \n",
       "1  Q32021       1   TM.ITNT.GIT.15.003   \n",
       "2  Q32021       2     TM.GP.FFM.15.006   \n",
       "3  Q32021       3    TM.GOV.GIT.15.001   \n",
       "4  Q32021       4   TM.GOV.GITN.15.009   \n",
       "\n",
       "                                       Specific Risk tag common risk  \\\n",
       "0  Inability to meet customer’s original RFS (Rea...             NaN   \n",
       "1                             Unavailability of CASS             NaN   \n",
       "2           Discrepancy of Scrap Items – Scrap Cable             NaN   \n",
       "3                                        Credit Risk             NaN   \n",
       "4                    Poor Customer Service for IPVPN             NaN   \n",
       "\n",
       "      Date Identified Date Created  Risk Status    Entity  \\\n",
       "0 2014-12-24 03:43:00          NaT          NaN  TM Group   \n",
       "1 2014-12-28 18:32:00          NaT          NaN  TM Group   \n",
       "2 2015-09-22 15:47:00          NaT          NaN  TM Group   \n",
       "3 2015-05-12 14:53:00          NaT          NaN  TM Group   \n",
       "4 2015-10-09 11:12:00          NaT          NaN  TM Group   \n",
       "\n",
       "                    Company  ... Comment Approver 1 Last Modified Approver 1  \\\n",
       "0                      CEMT  ...                NaN                      NaN   \n",
       "1  Group Network Technology  ...                NaN                      NaN   \n",
       "2         Group Procurement  ...                NaN                      NaN   \n",
       "3                       NaN  ...                NaN                      NaN   \n",
       "4                Government  ...                NaN                      NaN   \n",
       "\n",
       "  Approver 2 Status Approver 2 Comment Approver 2  Last Modified Approver 2  \\\n",
       "0        NaN               NaN                NaN                       NaN   \n",
       "1        NaN               NaN                NaN                       NaN   \n",
       "2        NaN               NaN                NaN                       NaN   \n",
       "3     GN0380          Approved                NaN                       NaN   \n",
       "4     S50423          Approved                NaN                       NaN   \n",
       "\n",
       "   Prepared By  Prepared By Comment Chief Risk Coordinator  Incident ID  \n",
       "0          NaN                  NaN                    NaN          NaN  \n",
       "1          NaN                  NaN                    NaN          NaN  \n",
       "2          NaN                  NaN                    NaN          NaN  \n",
       "3          NaN                  NaN                    NaN          NaN  \n",
       "4          NaN                  NaN                    NaN          NaN  \n",
       "\n",
       "[5 rows x 129 columns]"
      ]
     },
     "execution_count": 22,
     "metadata": {},
     "output_type": "execute_result"
    }
   ],
   "source": [
    "df.head()"
   ]
  },
  {
   "cell_type": "code",
   "execution_count": 23,
   "metadata": {},
   "outputs": [],
   "source": [
    "df['LOB'] = df['Risk ID'].str.split(\".\", 2).str[1] #split column  select second split"
   ]
  },
  {
   "cell_type": "code",
   "execution_count": 24,
   "metadata": {},
   "outputs": [
    {
     "data": {
      "text/plain": [
       "SB      225\n",
       "GW      126\n",
       "GF      122\n",
       "ITNT    120\n",
       "GITD    115\n",
       "TM1     108\n",
       "MASS    102\n",
       "GIS     102\n",
       "GP      101\n",
       "UNIF     76\n",
       "ME20     68\n",
       "GS       60\n",
       "GNT      52\n",
       "STM      42\n",
       "VADS     42\n",
       "GOV      40\n",
       "CEMT     38\n",
       "ENT      36\n",
       "MMU      34\n",
       "WEBE     33\n",
       "GDC      30\n",
       "GLC      28\n",
       "GIG      27\n",
       "GHCM     26\n",
       "GRM      26\n",
       "GCX      26\n",
       "CON      26\n",
       "GLSD     24\n",
       "NM       24\n",
       "GBC      24\n",
       "GCXM     15\n",
       "RND      10\n",
       "SME      10\n",
       "COPM     10\n",
       "GCSD      9\n",
       "CB        4\n",
       "CA        4\n",
       "MER2      2\n",
       "GLEI      2\n",
       "BIG       1\n",
       "Name: LOB, dtype: int64"
      ]
     },
     "execution_count": 24,
     "metadata": {},
     "output_type": "execute_result"
    }
   ],
   "source": [
    "df['LOB'].value_counts()"
   ]
  },
  {
   "cell_type": "code",
   "execution_count": 25,
   "metadata": {},
   "outputs": [
    {
     "data": {
      "text/plain": [
       "array([nan, 'Low', 'Significant', 'Moderate', 'High', 'Extreme'],\n",
       "      dtype=object)"
      ]
     },
     "execution_count": 25,
     "metadata": {},
     "output_type": "execute_result"
    }
   ],
   "source": [
    "df['Residual Rating'].unique()"
   ]
  },
  {
   "cell_type": "code",
   "execution_count": 26,
   "metadata": {},
   "outputs": [],
   "source": [
    "Rank_Residual_Rating = {'Low':1, 'Moderate':2, 'Significant':3, 'High':4, 'Extreme':5}"
   ]
  },
  {
   "cell_type": "code",
   "execution_count": 27,
   "metadata": {},
   "outputs": [],
   "source": [
    "df['#Residual_rating'] = df['Residual Rating'].map(Rank_Residual_Rating).fillna(0)"
   ]
  },
  {
   "cell_type": "code",
   "execution_count": 28,
   "metadata": {},
   "outputs": [
    {
     "data": {
      "text/html": [
       "<div><div id=bc0a0d0d-0a65-4d1f-8cf4-38f4ff5e640d style=\"display:none; background-color:#9D6CFF; color:white; width:200px; height:30px; padding-left:5px; border-radius:4px; flex-direction:row; justify-content:space-around; align-items:center;\" onmouseover=\"this.style.backgroundColor='#BA9BF8'\" onmouseout=\"this.style.backgroundColor='#9D6CFF'\" onclick=\"window.commands?.execute('create-mitosheet-from-dataframe-output');\">See Full Dataframe in Mito</div> <script> if (window.commands.hasCommand('create-mitosheet-from-dataframe-output')) document.getElementById('bc0a0d0d-0a65-4d1f-8cf4-38f4ff5e640d').style.display = 'flex' </script> <table border=\"1\" class=\"dataframe\">\n",
       "  <thead>\n",
       "    <tr style=\"text-align: right;\">\n",
       "      <th></th>\n",
       "      <th>Quarter</th>\n",
       "      <th>Row ID</th>\n",
       "      <th>Risk ID</th>\n",
       "      <th>Specific Risk</th>\n",
       "      <th>tag common risk</th>\n",
       "      <th>Date Identified</th>\n",
       "    </tr>\n",
       "  </thead>\n",
       "  <tbody>\n",
       "    <tr>\n",
       "      <th>39</th>\n",
       "      <td>Q32021</td>\n",
       "      <td>39</td>\n",
       "      <td>TM.GW.BFGW.21.001</td>\n",
       "      <td>CORRUPTION - Abuse of Power / Position</td>\n",
       "      <td>corruption</td>\n",
       "      <td>NaT</td>\n",
       "    </tr>\n",
       "    <tr>\n",
       "      <th>43</th>\n",
       "      <td>Q32021</td>\n",
       "      <td>43</td>\n",
       "      <td>TM.GNT.CNOO.20.001-2</td>\n",
       "      <td>CORRUPTION (DIVISIONAL)</td>\n",
       "      <td>corruption</td>\n",
       "      <td>NaT</td>\n",
       "    </tr>\n",
       "    <tr>\n",
       "      <th>44</th>\n",
       "      <td>Q32021</td>\n",
       "      <td>44</td>\n",
       "      <td>TM.GNT.CNOO.20.002</td>\n",
       "      <td>CORRUPTION - False Claim</td>\n",
       "      <td>corruption</td>\n",
       "      <td>NaT</td>\n",
       "    </tr>\n",
       "  </tbody>\n",
       "</table></div>"
      ],
      "text/plain": [
       "   Quarter  Row ID               Risk ID  \\\n",
       "39  Q32021      39     TM.GW.BFGW.21.001   \n",
       "43  Q32021      43  TM.GNT.CNOO.20.001-2   \n",
       "44  Q32021      44    TM.GNT.CNOO.20.002   \n",
       "\n",
       "                             Specific Risk tag common risk Date Identified  \n",
       "39  CORRUPTION - Abuse of Power / Position      corruption             NaT  \n",
       "43                 CORRUPTION (DIVISIONAL)      corruption             NaT  \n",
       "44                CORRUPTION - False Claim      corruption             NaT  "
      ]
     },
     "execution_count": 28,
     "metadata": {},
     "output_type": "execute_result"
    }
   ],
   "source": [
    "df.loc[(df['tag common risk']=='corruption'), 'Quarter':'Date Identified'].head(3)"
   ]
  },
  {
   "cell_type": "code",
   "execution_count": 29,
   "metadata": {},
   "outputs": [
    {
     "data": {
      "text/plain": [
       "{'Low': 1, 'Moderate': 2, 'Significant': 3, 'High': 4, 'Extreme': 5}"
      ]
     },
     "execution_count": 29,
     "metadata": {},
     "output_type": "execute_result"
    }
   ],
   "source": [
    "Rank_Residual_Rating"
   ]
  },
  {
   "cell_type": "code",
   "execution_count": 30,
   "metadata": {},
   "outputs": [
    {
     "data": {
      "text/plain": [
       "dict"
      ]
     },
     "execution_count": 30,
     "metadata": {},
     "output_type": "execute_result"
    }
   ],
   "source": [
    "type(Rank_Residual_Rating)"
   ]
  },
  {
   "cell_type": "code",
   "execution_count": 31,
   "metadata": {},
   "outputs": [],
   "source": [
    "df2 = pd.DataFrame.from_dict(Rank_Residual_Rating, orient = 'index')"
   ]
  },
  {
   "cell_type": "code",
   "execution_count": 32,
   "metadata": {},
   "outputs": [
    {
     "data": {
      "text/html": [
       "<div><div id=971253bf-f024-4ca2-97d3-60f78e110947 style=\"display:none; background-color:#9D6CFF; color:white; width:200px; height:30px; padding-left:5px; border-radius:4px; flex-direction:row; justify-content:space-around; align-items:center;\" onmouseover=\"this.style.backgroundColor='#BA9BF8'\" onmouseout=\"this.style.backgroundColor='#9D6CFF'\" onclick=\"window.commands?.execute('create-mitosheet-from-dataframe-output');\">See Full Dataframe in Mito</div> <script> if (window.commands.hasCommand('create-mitosheet-from-dataframe-output')) document.getElementById('971253bf-f024-4ca2-97d3-60f78e110947').style.display = 'flex' </script> <table border=\"1\" class=\"dataframe\">\n",
       "  <thead>\n",
       "    <tr style=\"text-align: right;\">\n",
       "      <th></th>\n",
       "      <th>0</th>\n",
       "    </tr>\n",
       "  </thead>\n",
       "  <tbody>\n",
       "    <tr>\n",
       "      <th>Low</th>\n",
       "      <td>1</td>\n",
       "    </tr>\n",
       "    <tr>\n",
       "      <th>Moderate</th>\n",
       "      <td>2</td>\n",
       "    </tr>\n",
       "    <tr>\n",
       "      <th>Significant</th>\n",
       "      <td>3</td>\n",
       "    </tr>\n",
       "    <tr>\n",
       "      <th>High</th>\n",
       "      <td>4</td>\n",
       "    </tr>\n",
       "    <tr>\n",
       "      <th>Extreme</th>\n",
       "      <td>5</td>\n",
       "    </tr>\n",
       "  </tbody>\n",
       "</table></div>"
      ],
      "text/plain": [
       "             0\n",
       "Low          1\n",
       "Moderate     2\n",
       "Significant  3\n",
       "High         4\n",
       "Extreme      5"
      ]
     },
     "execution_count": 32,
     "metadata": {},
     "output_type": "execute_result"
    }
   ],
   "source": [
    "df2"
   ]
  },
  {
   "cell_type": "code",
   "execution_count": 33,
   "metadata": {},
   "outputs": [],
   "source": [
    "df2.reset_index(inplace=True)"
   ]
  },
  {
   "cell_type": "code",
   "execution_count": 34,
   "metadata": {},
   "outputs": [
    {
     "data": {
      "text/html": [
       "<div><div id=9eb63561-c31b-4eed-a0e8-de36acb0df3e style=\"display:none; background-color:#9D6CFF; color:white; width:200px; height:30px; padding-left:5px; border-radius:4px; flex-direction:row; justify-content:space-around; align-items:center;\" onmouseover=\"this.style.backgroundColor='#BA9BF8'\" onmouseout=\"this.style.backgroundColor='#9D6CFF'\" onclick=\"window.commands?.execute('create-mitosheet-from-dataframe-output');\">See Full Dataframe in Mito</div> <script> if (window.commands.hasCommand('create-mitosheet-from-dataframe-output')) document.getElementById('9eb63561-c31b-4eed-a0e8-de36acb0df3e').style.display = 'flex' </script> <table border=\"1\" class=\"dataframe\">\n",
       "  <thead>\n",
       "    <tr style=\"text-align: right;\">\n",
       "      <th></th>\n",
       "      <th>Residual Risk Description</th>\n",
       "      <th>#Residual Risk</th>\n",
       "    </tr>\n",
       "  </thead>\n",
       "  <tbody>\n",
       "    <tr>\n",
       "      <th>0</th>\n",
       "      <td>Low</td>\n",
       "      <td>1</td>\n",
       "    </tr>\n",
       "    <tr>\n",
       "      <th>1</th>\n",
       "      <td>Moderate</td>\n",
       "      <td>2</td>\n",
       "    </tr>\n",
       "    <tr>\n",
       "      <th>2</th>\n",
       "      <td>Significant</td>\n",
       "      <td>3</td>\n",
       "    </tr>\n",
       "    <tr>\n",
       "      <th>3</th>\n",
       "      <td>High</td>\n",
       "      <td>4</td>\n",
       "    </tr>\n",
       "    <tr>\n",
       "      <th>4</th>\n",
       "      <td>Extreme</td>\n",
       "      <td>5</td>\n",
       "    </tr>\n",
       "  </tbody>\n",
       "</table></div>"
      ],
      "text/plain": [
       "  Residual Risk Description  #Residual Risk\n",
       "0                       Low               1\n",
       "1                  Moderate               2\n",
       "2               Significant               3\n",
       "3                      High               4\n",
       "4                   Extreme               5"
      ]
     },
     "execution_count": 34,
     "metadata": {},
     "output_type": "execute_result"
    }
   ],
   "source": [
    "df2.rename(columns={'index': 'Residual Risk Description', 0: '#Residual Risk'})"
   ]
  },
  {
   "cell_type": "code",
   "execution_count": 35,
   "metadata": {},
   "outputs": [],
   "source": [
    "df.to_csv('NEW_mercis_automated_output.csv')"
   ]
  },
  {
   "cell_type": "code",
   "execution_count": null,
   "metadata": {},
   "outputs": [],
   "source": []
  }
 ],
 "metadata": {
  "hide_input": false,
  "kernelspec": {
   "display_name": "Python 3",
   "language": "python",
   "name": "python3"
  },
  "language_info": {
   "codemirror_mode": {
    "name": "ipython",
    "version": 3
   },
   "file_extension": ".py",
   "mimetype": "text/x-python",
   "name": "python",
   "nbconvert_exporter": "python",
   "pygments_lexer": "ipython3",
   "version": "3.8.3"
  }
 },
 "nbformat": 4,
 "nbformat_minor": 4
}

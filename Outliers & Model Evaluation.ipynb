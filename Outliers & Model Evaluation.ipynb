{
 "cells": [
  {
   "cell_type": "code",
   "execution_count": 1,
   "metadata": {},
   "outputs": [],
   "source": [
    "import pandas as pd\n",
    "import os"
   ]
  },
  {
   "cell_type": "code",
   "execution_count": 2,
   "metadata": {},
   "outputs": [
    {
     "data": {
      "text/plain": [
       "'C:\\\\Users\\\\S54201'"
      ]
     },
     "execution_count": 2,
     "metadata": {},
     "output_type": "execute_result"
    }
   ],
   "source": [
    "pwd"
   ]
  },
  {
   "cell_type": "code",
   "execution_count": 3,
   "metadata": {},
   "outputs": [],
   "source": [
    "path = 'C:\\\\Users\\\\S54201\\\\Downloads\\\\titanic'"
   ]
  },
  {
   "cell_type": "code",
   "execution_count": 4,
   "metadata": {},
   "outputs": [],
   "source": [
    "os.chdir(path)"
   ]
  },
  {
   "cell_type": "code",
   "execution_count": 5,
   "metadata": {},
   "outputs": [
    {
     "data": {
      "text/plain": [
       "'C:\\\\Users\\\\S54201\\\\Downloads\\\\titanic'"
      ]
     },
     "execution_count": 5,
     "metadata": {},
     "output_type": "execute_result"
    }
   ],
   "source": [
    "pwd"
   ]
  },
  {
   "cell_type": "raw",
   "metadata": {},
   "source": [
    "Which Machine LEarning Models Are Sensitive To Outliers?\n",
    "Naivye Bayes Classifier--- Not Sensitive To Outliers\n",
    "SVM-------- Not Sensitive To Outliers\n",
    "Linear Regression---------- Sensitive To Outliers\n",
    "Logistic Regression------- Sensitive To Outliers\n",
    "Decision Tree Regressor or Classifier---- Not Sensitive\n",
    "Ensemble(RF,XGboost,GB)------- Not Sensitive\n",
    "KNN--------------------------- Not Sensitive\n",
    "Kmeans------------------------ Sensitive\n",
    "Hierarichal------------------- Sensitive\n",
    "PCA-------------------------- Sensitive\n",
    "Neural Networks-------------- Sensitive"
   ]
  },
  {
   "cell_type": "code",
   "execution_count": 6,
   "metadata": {},
   "outputs": [],
   "source": [
    "df = pd.read_csv('train.csv')"
   ]
  },
  {
   "cell_type": "code",
   "execution_count": 7,
   "metadata": {},
   "outputs": [
    {
     "data": {
      "text/html": [
       "<div><div id=78da7968-9a36-4b95-b332-13645879f02e style=\"display:none; background-color:#9D6CFF; color:white; width:200px; height:30px; padding-left:5px; border-radius:4px; flex-direction:row; justify-content:space-around; align-items:center;\" onmouseover=\"this.style.backgroundColor='#BA9BF8'\" onmouseout=\"this.style.backgroundColor='#9D6CFF'\" onclick=\"window.commands?.execute('create-mitosheet-from-dataframe-output');\">See Full Dataframe in Mito</div> <script> if (window.commands.hasCommand('create-mitosheet-from-dataframe-output')) document.getElementById('78da7968-9a36-4b95-b332-13645879f02e').style.display = 'flex' </script> <table border=\"1\" class=\"dataframe\">\n",
       "  <thead>\n",
       "    <tr style=\"text-align: right;\">\n",
       "      <th></th>\n",
       "      <th>PassengerId</th>\n",
       "      <th>Survived</th>\n",
       "      <th>Pclass</th>\n",
       "      <th>Name</th>\n",
       "      <th>Sex</th>\n",
       "      <th>Age</th>\n",
       "      <th>SibSp</th>\n",
       "      <th>Parch</th>\n",
       "      <th>Ticket</th>\n",
       "      <th>Fare</th>\n",
       "      <th>Cabin</th>\n",
       "      <th>Embarked</th>\n",
       "    </tr>\n",
       "  </thead>\n",
       "  <tbody>\n",
       "    <tr>\n",
       "      <th>0</th>\n",
       "      <td>1</td>\n",
       "      <td>0</td>\n",
       "      <td>3</td>\n",
       "      <td>Braund, Mr. Owen Harris</td>\n",
       "      <td>male</td>\n",
       "      <td>22.0</td>\n",
       "      <td>1</td>\n",
       "      <td>0</td>\n",
       "      <td>A/5 21171</td>\n",
       "      <td>7.2500</td>\n",
       "      <td>NaN</td>\n",
       "      <td>S</td>\n",
       "    </tr>\n",
       "    <tr>\n",
       "      <th>1</th>\n",
       "      <td>2</td>\n",
       "      <td>1</td>\n",
       "      <td>1</td>\n",
       "      <td>Cumings, Mrs. John Bradley (Florence Briggs Thayer)</td>\n",
       "      <td>female</td>\n",
       "      <td>38.0</td>\n",
       "      <td>1</td>\n",
       "      <td>0</td>\n",
       "      <td>PC 17599</td>\n",
       "      <td>71.2833</td>\n",
       "      <td>C85</td>\n",
       "      <td>C</td>\n",
       "    </tr>\n",
       "    <tr>\n",
       "      <th>2</th>\n",
       "      <td>3</td>\n",
       "      <td>1</td>\n",
       "      <td>3</td>\n",
       "      <td>Heikkinen, Miss. Laina</td>\n",
       "      <td>female</td>\n",
       "      <td>26.0</td>\n",
       "      <td>0</td>\n",
       "      <td>0</td>\n",
       "      <td>STON/O2. 3101282</td>\n",
       "      <td>7.9250</td>\n",
       "      <td>NaN</td>\n",
       "      <td>S</td>\n",
       "    </tr>\n",
       "    <tr>\n",
       "      <th>3</th>\n",
       "      <td>4</td>\n",
       "      <td>1</td>\n",
       "      <td>1</td>\n",
       "      <td>Futrelle, Mrs. Jacques Heath (Lily May Peel)</td>\n",
       "      <td>female</td>\n",
       "      <td>35.0</td>\n",
       "      <td>1</td>\n",
       "      <td>0</td>\n",
       "      <td>113803</td>\n",
       "      <td>53.1000</td>\n",
       "      <td>C123</td>\n",
       "      <td>S</td>\n",
       "    </tr>\n",
       "    <tr>\n",
       "      <th>4</th>\n",
       "      <td>5</td>\n",
       "      <td>0</td>\n",
       "      <td>3</td>\n",
       "      <td>Allen, Mr. William Henry</td>\n",
       "      <td>male</td>\n",
       "      <td>35.0</td>\n",
       "      <td>0</td>\n",
       "      <td>0</td>\n",
       "      <td>373450</td>\n",
       "      <td>8.0500</td>\n",
       "      <td>NaN</td>\n",
       "      <td>S</td>\n",
       "    </tr>\n",
       "  </tbody>\n",
       "</table></div>"
      ],
      "text/plain": [
       "   PassengerId  Survived  Pclass  \\\n",
       "0            1         0       3   \n",
       "1            2         1       1   \n",
       "2            3         1       3   \n",
       "3            4         1       1   \n",
       "4            5         0       3   \n",
       "\n",
       "                                                Name     Sex   Age  SibSp  \\\n",
       "0                            Braund, Mr. Owen Harris    male  22.0      1   \n",
       "1  Cumings, Mrs. John Bradley (Florence Briggs Th...  female  38.0      1   \n",
       "2                             Heikkinen, Miss. Laina  female  26.0      0   \n",
       "3       Futrelle, Mrs. Jacques Heath (Lily May Peel)  female  35.0      1   \n",
       "4                           Allen, Mr. William Henry    male  35.0      0   \n",
       "\n",
       "   Parch            Ticket     Fare Cabin Embarked  \n",
       "0      0         A/5 21171   7.2500   NaN        S  \n",
       "1      0          PC 17599  71.2833   C85        C  \n",
       "2      0  STON/O2. 3101282   7.9250   NaN        S  \n",
       "3      0            113803  53.1000  C123        S  \n",
       "4      0            373450   8.0500   NaN        S  "
      ]
     },
     "execution_count": 7,
     "metadata": {},
     "output_type": "execute_result"
    }
   ],
   "source": [
    "df.head()"
   ]
  },
  {
   "cell_type": "code",
   "execution_count": 8,
   "metadata": {},
   "outputs": [
    {
     "data": {
      "text/plain": [
       "177"
      ]
     },
     "execution_count": 8,
     "metadata": {},
     "output_type": "execute_result"
    }
   ],
   "source": [
    "df['Age'].isnull().sum()"
   ]
  },
  {
   "cell_type": "code",
   "execution_count": 9,
   "metadata": {},
   "outputs": [],
   "source": [
    "import seaborn as sns"
   ]
  },
  {
   "cell_type": "code",
   "execution_count": 10,
   "metadata": {},
   "outputs": [
    {
     "data": {
      "text/plain": [
       "<matplotlib.axes._subplots.AxesSubplot at 0x2450e742700>"
      ]
     },
     "execution_count": 10,
     "metadata": {},
     "output_type": "execute_result"
    },
    {
     "data": {
      "image/png": "[encoded data removed]",
      "text/plain": [
       "<Figure size 432x288 with 1 Axes>"
      ]
     },
     "metadata": {
      "needs_background": "light"
     },
     "output_type": "display_data"
    }
   ],
   "source": [
    "sns.distplot(df['Age'].dropna())"
   ]
  },
  {
   "cell_type": "code",
   "execution_count": 11,
   "metadata": {},
   "outputs": [
    {
     "data": {
      "text/plain": [
       "<matplotlib.axes._subplots.AxesSubplot at 0x2450ef3b0a0>"
      ]
     },
     "execution_count": 11,
     "metadata": {},
     "output_type": "execute_result"
    },
    {
     "data": {
      "image/png": "[encoded data removed]",
      "text/plain": [
       "<Figure size 432x288 with 1 Axes>"
      ]
     },
     "metadata": {
      "needs_background": "light"
     },
     "output_type": "display_data"
    }
   ],
   "source": [
    "sns.distplot(df['Age'].fillna(100))"
   ]
  },
  {
   "cell_type": "code",
   "execution_count": 12,
   "metadata": {},
   "outputs": [
    {
     "data": {
      "text/plain": [
       "Text(0, 0.5, '#Passenger')"
      ]
     },
     "execution_count": 12,
     "metadata": {},
     "output_type": "execute_result"
    },
    {
     "data": {
      "image/png": "[encoded data removed]",
      "text/plain": [
       "<Figure size 432x288 with 1 Axes>"
      ]
     },
     "metadata": {
      "needs_background": "light"
     },
     "output_type": "display_data"
    }
   ],
   "source": [
    "figure = df.Age.hist(bins=50)\n",
    "figure.set_title('Age')\n",
    "figure.set_xlabel('Age')\n",
    "figure.set_ylabel('#Passenger')"
   ]
  },
  {
   "cell_type": "code",
   "execution_count": 13,
   "metadata": {},
   "outputs": [
    {
     "data": {
      "image/png": "[encoded data removed]",
      "text/plain": [
       "<Figure size 432x288 with 1 Axes>"
      ]
     },
     "metadata": {
      "needs_background": "light"
     },
     "output_type": "display_data"
    }
   ],
   "source": [
    "figure=df.boxplot(column='Age')"
   ]
  },
  {
   "cell_type": "code",
   "execution_count": 14,
   "metadata": {},
   "outputs": [
    {
     "data": {
      "text/plain": [
       "count    714.000000\n",
       "mean      29.699118\n",
       "std       14.526497\n",
       "min        0.420000\n",
       "25%       20.125000\n",
       "50%       28.000000\n",
       "75%       38.000000\n",
       "max       80.000000\n",
       "Name: Age, dtype: float64"
      ]
     },
     "execution_count": 14,
     "metadata": {},
     "output_type": "execute_result"
    }
   ],
   "source": [
    "df.Age.describe()"
   ]
  },
  {
   "cell_type": "code",
   "execution_count": 15,
   "metadata": {},
   "outputs": [
    {
     "data": {
      "text/plain": [
       "29.69911764705882"
      ]
     },
     "execution_count": 15,
     "metadata": {},
     "output_type": "execute_result"
    }
   ],
   "source": [
    "df['Age'].mean()"
   ]
  },
  {
   "cell_type": "markdown",
   "metadata": {},
   "source": [
    "#### If dataset normally distributed, outliers calculated using std"
   ]
  },
  {
   "cell_type": "code",
   "execution_count": 16,
   "metadata": {},
   "outputs": [
    {
     "name": "stdout",
     "output_type": "stream",
     "text": [
      "73.27860964406095\n",
      "-13.88037434994331\n"
     ]
    },
    {
     "data": {
      "text/plain": [
       "(None, None)"
      ]
     },
     "execution_count": 16,
     "metadata": {},
     "output_type": "execute_result"
    }
   ],
   "source": [
    "upper_boundry = df['Age'].mean() + 3*df['Age'].std()\n",
    "lower_boundry = df['Age'].mean() - 3*df['Age'].std()\n",
    "print(upper_boundry), print(lower_boundry)"
   ]
  },
  {
   "cell_type": "markdown",
   "metadata": {},
   "source": [
    "#### Skewed outlier will be calculated using Extreme IQR"
   ]
  },
  {
   "cell_type": "code",
   "execution_count": 17,
   "metadata": {},
   "outputs": [
    {
     "data": {
      "text/plain": [
       "Text(0, 0.5, '#Passenger')"
      ]
     },
     "execution_count": 17,
     "metadata": {},
     "output_type": "execute_result"
    },
    {
     "data": {
      "image/png": "[encoded data removed]",
      "text/plain": [
       "<Figure size 432x288 with 1 Axes>"
      ]
     },
     "metadata": {
      "needs_background": "light"
     },
     "output_type": "display_data"
    }
   ],
   "source": [
    "figure = df.Fare.hist(bins=50)\n",
    "figure.set_title('Fare')\n",
    "figure.set_xlabel('Fare')\n",
    "figure.set_ylabel('#Passenger')"
   ]
  },
  {
   "cell_type": "code",
   "execution_count": 18,
   "metadata": {},
   "outputs": [
    {
     "data": {
      "image/png": "[encoded data removed]",
      "text/plain": [
       "<Figure size 432x288 with 1 Axes>"
      ]
     },
     "metadata": {
      "needs_background": "light"
     },
     "output_type": "display_data"
    }
   ],
   "source": [
    "figure=df.boxplot(column='Fare')"
   ]
  },
  {
   "cell_type": "code",
   "execution_count": 19,
   "metadata": {},
   "outputs": [
    {
     "data": {
      "text/plain": [
       "count    891.000000\n",
       "mean      32.204208\n",
       "std       49.693429\n",
       "min        0.000000\n",
       "25%        7.910400\n",
       "50%       14.454200\n",
       "75%       31.000000\n",
       "max      512.329200\n",
       "Name: Fare, dtype: float64"
      ]
     },
     "execution_count": 19,
     "metadata": {},
     "output_type": "execute_result"
    }
   ],
   "source": [
    "df['Fare'].describe()"
   ]
  },
  {
   "cell_type": "code",
   "execution_count": 20,
   "metadata": {},
   "outputs": [
    {
     "name": "stdout",
     "output_type": "stream",
     "text": [
      "181.2844937601173\n",
      "-116.87607782296811\n"
     ]
    },
    {
     "data": {
      "text/plain": [
       "(None, None)"
      ]
     },
     "execution_count": 20,
     "metadata": {},
     "output_type": "execute_result"
    }
   ],
   "source": [
    "upper_boundry = df['Fare'].mean() + 3*df['Fare'].std()\n",
    "lower_boundry = df['Fare'].mean() - 3*df['Fare'].std()\n",
    "print(upper_boundry), print(lower_boundry)"
   ]
  },
  {
   "cell_type": "code",
   "execution_count": 21,
   "metadata": {},
   "outputs": [
    {
     "name": "stdout",
     "output_type": "stream",
     "text": [
      "23.0896\n",
      "-26.724\n",
      "65.6344\n"
     ]
    },
    {
     "data": {
      "text/plain": [
       "(None, None, None)"
      ]
     },
     "execution_count": 21,
     "metadata": {},
     "output_type": "execute_result"
    }
   ],
   "source": [
    "IQR = df['Fare'].quantile(0.75) - df['Fare'].quantile(0.25)\n",
    "lower_boundry = df['Fare'].quantile(0.25) - (IQR*1.5)\n",
    "upper_boundry = df['Fare'].quantile(0.75) + (IQR*1.5)\n",
    "print(IQR), print(lower_boundry), print(upper_boundry)"
   ]
  },
  {
   "cell_type": "code",
   "execution_count": 22,
   "metadata": {},
   "outputs": [
    {
     "name": "stdout",
     "output_type": "stream",
     "text": [
      "-61.358399999999996\n",
      "100.2688\n"
     ]
    },
    {
     "data": {
      "text/plain": [
       "(None, None)"
      ]
     },
     "execution_count": 22,
     "metadata": {},
     "output_type": "execute_result"
    }
   ],
   "source": [
    "###Extreme outlier\n",
    "lower_boundry = df['Fare'].quantile(0.25) - (IQR*3)\n",
    "upper_boundry = df['Fare'].quantile(0.75) + (IQR*3)\n",
    "print(lower_boundry), print(upper_boundry)"
   ]
  },
  {
   "cell_type": "markdown",
   "metadata": {},
   "source": [
    "#### Remove outlier"
   ]
  },
  {
   "cell_type": "code",
   "execution_count": 23,
   "metadata": {},
   "outputs": [],
   "source": [
    "data = df.copy()"
   ]
  },
  {
   "cell_type": "code",
   "execution_count": 24,
   "metadata": {},
   "outputs": [],
   "source": [
    "data.loc[data['Age']>=73,'Age']=73"
   ]
  },
  {
   "cell_type": "code",
   "execution_count": 25,
   "metadata": {},
   "outputs": [],
   "source": [
    "data.loc[data['Fare']>=100,'Fare']=100"
   ]
  },
  {
   "cell_type": "code",
   "execution_count": 26,
   "metadata": {},
   "outputs": [
    {
     "data": {
      "text/plain": [
       "Text(0, 0.5, '#Passenger')"
      ]
     },
     "execution_count": 26,
     "metadata": {},
     "output_type": "execute_result"
    },
    {
     "data": {
      "image/png": "[encoded data removed]",
      "text/plain": [
       "<Figure size 432x288 with 1 Axes>"
      ]
     },
     "metadata": {
      "needs_background": "light"
     },
     "output_type": "display_data"
    }
   ],
   "source": [
    "figure = data.Age.hist(bins=50)\n",
    "figure.set_title('Age')\n",
    "figure.set_xlabel('Age')\n",
    "figure.set_ylabel('#Passenger')"
   ]
  },
  {
   "cell_type": "code",
   "execution_count": 27,
   "metadata": {},
   "outputs": [
    {
     "data": {
      "text/plain": [
       "Text(0, 0.5, '#Passenger')"
      ]
     },
     "execution_count": 27,
     "metadata": {},
     "output_type": "execute_result"
    },
    {
     "data": {
      "image/png": "[encoded data removed]",
      "text/plain": [
       "<Figure size 432x288 with 1 Axes>"
      ]
     },
     "metadata": {
      "needs_background": "light"
     },
     "output_type": "display_data"
    }
   ],
   "source": [
    "figure = data.Fare.hist(bins=50)\n",
    "figure.set_title('Fare')\n",
    "figure.set_xlabel('Fare')\n",
    "figure.set_ylabel('#Passenger')"
   ]
  },
  {
   "cell_type": "code",
   "execution_count": 28,
   "metadata": {},
   "outputs": [],
   "source": [
    "from sklearn.model_selection import train_test_split\n",
    "X_train,X_test,y_train,y_test=train_test_split(data[['Age','Fare']].fillna(0),data['Survived'],test_size=0.3)"
   ]
  },
  {
   "cell_type": "code",
   "execution_count": 46,
   "metadata": {},
   "outputs": [
    {
     "name": "stdout",
     "output_type": "stream",
     "text": [
      "Accuracy_score: 0.7014925373134329\n",
      "roc_auc_score: 0.7354856212696691\n",
      "Confusion_martix:\n",
      "[[152  19]\n",
      " [ 61  36]]\n",
      "classification_report:\n",
      "              precision    recall  f1-score   support\n",
      "\n",
      "           0       0.71      0.89      0.79       171\n",
      "           1       0.65      0.37      0.47        97\n",
      "\n",
      "    accuracy                           0.70       268\n",
      "   macro avg       0.68      0.63      0.63       268\n",
      "weighted avg       0.69      0.70      0.68       268\n",
      "\n"
     ]
    }
   ],
   "source": [
    "### Logistic Regression\n",
    "from sklearn.linear_model import LogisticRegression\n",
    "classifier=LogisticRegression()\n",
    "classifier.fit(X_train,y_train)\n",
    "y_pred=classifier.predict(X_test)\n",
    "y_pred1=classifier.predict_proba(X_test)\n",
    "\n",
    "from sklearn.metrics import confusion_matrix, classification_report, accuracy_score, roc_auc_score\n",
    "print(\"Accuracy_score: {}\".format(accuracy_score(y_test,y_pred)))\n",
    "print(\"roc_auc_score: {}\".format(roc_auc_score(y_test,y_pred1[:,1])))\n",
    "print(\"Confusion_martix:\")\n",
    "print(confusion_matrix(y_test,y_pred))\n",
    "print(\"classification_report:\")\n",
    "print(classification_report(y_test,y_pred))"
   ]
  },
  {
   "cell_type": "markdown",
   "metadata": {},
   "source": [
    "Note: https://www.youtube.com/watch?v=yoLpcelanpI&t=460s"
   ]
  },
  {
   "cell_type": "code",
   "execution_count": 31,
   "metadata": {},
   "outputs": [
    {
     "data": {
      "text/plain": [
       "array([[152,  19],\n",
       "       [ 61,  36]], dtype=int64)"
      ]
     },
     "execution_count": 31,
     "metadata": {},
     "output_type": "execute_result"
    }
   ],
   "source": [
    "confusion_matrix(y_test,y_pred)"
   ]
  },
  {
   "cell_type": "code",
   "execution_count": 43,
   "metadata": {},
   "outputs": [
    {
     "name": "stdout",
     "output_type": "stream",
     "text": [
      "              precision    recall  f1-score   support\n",
      "\n",
      "           0       0.71      0.89      0.79       171\n",
      "           1       0.65      0.37      0.47        97\n",
      "\n",
      "    accuracy                           0.70       268\n",
      "   macro avg       0.68      0.63      0.63       268\n",
      "weighted avg       0.69      0.70      0.68       268\n",
      "\n"
     ]
    }
   ],
   "source": [
    "print(classification_report(y_test,y_pred)) #use print for better presentation of classification_report"
   ]
  },
  {
   "cell_type": "code",
   "execution_count": 33,
   "metadata": {},
   "outputs": [
    {
     "data": {
      "text/plain": [
       "0.7014925373134329"
      ]
     },
     "execution_count": 33,
     "metadata": {},
     "output_type": "execute_result"
    }
   ],
   "source": [
    "accuracy_score(y_test,y_pred)"
   ]
  },
  {
   "cell_type": "code",
   "execution_count": 35,
   "metadata": {},
   "outputs": [
    {
     "data": {
      "text/plain": [
       "0.7354856212696691"
      ]
     },
     "execution_count": 35,
     "metadata": {},
     "output_type": "execute_result"
    }
   ],
   "source": [
    "roc_auc_score(y_test,y_pred1[:,1])"
   ]
  },
  {
   "cell_type": "code",
   "execution_count": 50,
   "metadata": {},
   "outputs": [
    {
     "data": {
      "text/plain": [
       "array([[0.73128686, 0.26871314],\n",
       "       [0.68128812, 0.31871188],\n",
       "       [0.63887431, 0.36112569],\n",
       "       [0.45490406, 0.54509594],\n",
       "       [0.63095126, 0.36904874],\n",
       "       [0.43772701, 0.56227299],\n",
       "       [0.56761107, 0.43238893],\n",
       "       [0.68234745, 0.31765255],\n",
       "       [0.38793043, 0.61206957],\n",
       "       [0.6326688 , 0.3673312 ],\n",
       "       [0.61938601, 0.38061399],\n",
       "       [0.70506757, 0.29493243],\n",
       "       [0.70679793, 0.29320207],\n",
       "       [0.74865704, 0.25134296],\n",
       "       [0.68128812, 0.31871188],\n",
       "       [0.63369864, 0.36630136],\n",
       "       [0.68404267, 0.31595733],\n",
       "       [0.4980721 , 0.5019279 ],\n",
       "       [0.7247998 , 0.2752002 ],\n",
       "       [0.68406483, 0.31593517],\n",
       "       [0.63564311, 0.36435689],\n",
       "       [0.69624917, 0.30375083],\n",
       "       [0.68128812, 0.31871188],\n",
       "       [0.72205154, 0.27794846],\n",
       "       [0.20677848, 0.79322152],\n",
       "       [0.71642929, 0.28357071],\n",
       "       [0.62691269, 0.37308731],\n",
       "       [0.70532334, 0.29467666],\n",
       "       [0.59300031, 0.40699969],\n",
       "       [0.67969561, 0.32030439],\n",
       "       [0.25782862, 0.74217138],\n",
       "       [0.72964292, 0.27035708],\n",
       "       [0.63887431, 0.36112569],\n",
       "       [0.25019536, 0.74980464],\n",
       "       [0.69417832, 0.30582168],\n",
       "       [0.67969561, 0.32030439],\n",
       "       [0.64070845, 0.35929155],\n",
       "       [0.35550807, 0.64449193],\n",
       "       [0.67777627, 0.32222373],\n",
       "       [0.62951755, 0.37048245],\n",
       "       [0.76760389, 0.23239611],\n",
       "       [0.70649116, 0.29350884],\n",
       "       [0.69591811, 0.30408189],\n",
       "       [0.7145586 , 0.2854414 ],\n",
       "       [0.71270949, 0.28729051],\n",
       "       [0.69941583, 0.30058417],\n",
       "       [0.74141691, 0.25858309],\n",
       "       [0.30667011, 0.69332989],\n",
       "       [0.7055273 , 0.2944727 ],\n",
       "       [0.40905002, 0.59094998],\n",
       "       [0.72367538, 0.27632462],\n",
       "       [0.66565459, 0.33434541],\n",
       "       [0.62931993, 0.37068007],\n",
       "       [0.52357985, 0.47642015],\n",
       "       [0.67969561, 0.32030439],\n",
       "       [0.45930989, 0.54069011],\n",
       "       [0.7021414 , 0.2978586 ],\n",
       "       [0.70996427, 0.29003573],\n",
       "       [0.7049112 , 0.2950888 ],\n",
       "       [0.23323174, 0.76676826],\n",
       "       [0.68135438, 0.31864562],\n",
       "       [0.69213077, 0.30786923],\n",
       "       [0.70233699, 0.29766301],\n",
       "       [0.52053392, 0.47946608],\n",
       "       [0.73653051, 0.26346949],\n",
       "       [0.61863178, 0.38136822],\n",
       "       [0.57833824, 0.42166176],\n",
       "       [0.72120012, 0.27879988],\n",
       "       [0.73165231, 0.26834769],\n",
       "       [0.66858296, 0.33141704],\n",
       "       [0.70925186, 0.29074814],\n",
       "       [0.71048473, 0.28951527],\n",
       "       [0.2037579 , 0.7962421 ],\n",
       "       [0.23433734, 0.76566266],\n",
       "       [0.7637091 , 0.2362909 ],\n",
       "       [0.60774413, 0.39225587],\n",
       "       [0.26621824, 0.73378176],\n",
       "       [0.32100689, 0.67899311],\n",
       "       [0.68142064, 0.31857936],\n",
       "       [0.71604324, 0.28395676],\n",
       "       [0.34342222, 0.65657778],\n",
       "       [0.57258951, 0.42741049],\n",
       "       [0.67836947, 0.32163053],\n",
       "       [0.3622539 , 0.6377461 ],\n",
       "       [0.71735888, 0.28264112],\n",
       "       [0.50535426, 0.49464574],\n",
       "       [0.59941696, 0.40058304],\n",
       "       [0.68128812, 0.31871188],\n",
       "       [0.21919062, 0.78080938],\n",
       "       [0.19978173, 0.80021827],\n",
       "       [0.76777639, 0.23222361],\n",
       "       [0.7191799 , 0.2808201 ],\n",
       "       [0.70634941, 0.29365059],\n",
       "       [0.32100689, 0.67899311],\n",
       "       [0.37332281, 0.62667719],\n",
       "       [0.64237711, 0.35762289],\n",
       "       [0.22344522, 0.77655478],\n",
       "       [0.72077676, 0.27922324],\n",
       "       [0.4205136 , 0.5794864 ],\n",
       "       [0.68406483, 0.31593517],\n",
       "       [0.46490777, 0.53509223],\n",
       "       [0.47386334, 0.52613666],\n",
       "       [0.32828024, 0.67171976],\n",
       "       [0.21919062, 0.78080938],\n",
       "       [0.75024416, 0.24975584],\n",
       "       [0.66906582, 0.33093418],\n",
       "       [0.18353409, 0.81646591],\n",
       "       [0.70849608, 0.29150392],\n",
       "       [0.74143001, 0.25856999],\n",
       "       [0.68427263, 0.31572737],\n",
       "       [0.7037031 , 0.2962969 ],\n",
       "       [0.59417829, 0.40582171],\n",
       "       [0.62518882, 0.37481118],\n",
       "       [0.70904433, 0.29095567],\n",
       "       [0.62807691, 0.37192309],\n",
       "       [0.69687877, 0.30312123],\n",
       "       [0.71123355, 0.28876645],\n",
       "       [0.5810645 , 0.4189355 ],\n",
       "       [0.72184766, 0.27815234],\n",
       "       [0.7092871 , 0.2907129 ],\n",
       "       [0.42133187, 0.57866813],\n",
       "       [0.59313457, 0.40686543],\n",
       "       [0.71124057, 0.28875943],\n",
       "       [0.65642826, 0.34357174],\n",
       "       [0.67969561, 0.32030439],\n",
       "       [0.68051469, 0.31948531],\n",
       "       [0.36425873, 0.63574127],\n",
       "       [0.56340693, 0.43659307],\n",
       "       [0.61621531, 0.38378469],\n",
       "       [0.69677148, 0.30322852],\n",
       "       [0.68128812, 0.31871188],\n",
       "       [0.72161126, 0.27838874],\n",
       "       [0.74287741, 0.25712259],\n",
       "       [0.6491238 , 0.3508762 ],\n",
       "       [0.64842276, 0.35157724],\n",
       "       [0.7187113 , 0.2812887 ],\n",
       "       [0.58089986, 0.41910014],\n",
       "       [0.70372548, 0.29627452],\n",
       "       [0.71369332, 0.28630668],\n",
       "       [0.50072539, 0.49927461],\n",
       "       [0.70862212, 0.29137788],\n",
       "       [0.70112282, 0.29887718],\n",
       "       [0.77023709, 0.22976291],\n",
       "       [0.67756782, 0.32243218],\n",
       "       [0.68257169, 0.31742831],\n",
       "       [0.69925256, 0.30074744],\n",
       "       [0.71955406, 0.28044594],\n",
       "       [0.64112439, 0.35887561],\n",
       "       [0.68059105, 0.31940895],\n",
       "       [0.70478422, 0.29521578],\n",
       "       [0.5173791 , 0.4826209 ],\n",
       "       [0.69090161, 0.30909839],\n",
       "       [0.73039886, 0.26960114],\n",
       "       [0.72109112, 0.27890888],\n",
       "       [0.68949418, 0.31050582],\n",
       "       [0.73327995, 0.26672005],\n",
       "       [0.64565716, 0.35434284],\n",
       "       [0.60620652, 0.39379348],\n",
       "       [0.68427263, 0.31572737],\n",
       "       [0.30139093, 0.69860907],\n",
       "       [0.64891741, 0.35108259],\n",
       "       [0.55925459, 0.44074541],\n",
       "       [0.32421023, 0.67578977],\n",
       "       [0.6379166 , 0.3620834 ],\n",
       "       [0.56913947, 0.43086053],\n",
       "       [0.68051469, 0.31948531],\n",
       "       [0.2047611 , 0.7952389 ],\n",
       "       [0.71671935, 0.28328065],\n",
       "       [0.32100689, 0.67899311],\n",
       "       [0.68139838, 0.31860162],\n",
       "       [0.23433734, 0.76566266],\n",
       "       [0.72308521, 0.27691479],\n",
       "       [0.20077028, 0.79922972],\n",
       "       [0.71062743, 0.28937257],\n",
       "       [0.39402359, 0.60597641],\n",
       "       [0.55536401, 0.44463599],\n",
       "       [0.60455414, 0.39544586],\n",
       "       [0.70338534, 0.29661466],\n",
       "       [0.70120259, 0.29879741],\n",
       "       [0.60985727, 0.39014273],\n",
       "       [0.62493477, 0.37506523],\n",
       "       [0.72170449, 0.27829551],\n",
       "       [0.60339149, 0.39660851],\n",
       "       [0.67923034, 0.32076966],\n",
       "       [0.71294441, 0.28705559],\n",
       "       [0.62420201, 0.37579799],\n",
       "       [0.6561199 , 0.3438801 ],\n",
       "       [0.64982853, 0.35017147],\n",
       "       [0.66446739, 0.33553261],\n",
       "       [0.72356698, 0.27643302],\n",
       "       [0.22451801, 0.77548199],\n",
       "       [0.27351474, 0.72648526],\n",
       "       [0.71020298, 0.28979702],\n",
       "       [0.68599655, 0.31400345],\n",
       "       [0.21919062, 0.78080938],\n",
       "       [0.20077028, 0.79922972],\n",
       "       [0.63781013, 0.36218987],\n",
       "       [0.51290438, 0.48709562],\n",
       "       [0.72046315, 0.27953685],\n",
       "       [0.64239282, 0.35760718],\n",
       "       [0.71560916, 0.28439084],\n",
       "       [0.68406483, 0.31593517],\n",
       "       [0.67338368, 0.32661632],\n",
       "       [0.19392713, 0.80607287],\n",
       "       [0.73835616, 0.26164384],\n",
       "       [0.68406483, 0.31593517],\n",
       "       [0.73090093, 0.26909907],\n",
       "       [0.72089671, 0.27910329],\n",
       "       [0.72871238, 0.27128762],\n",
       "       [0.68958197, 0.31041803],\n",
       "       [0.44203104, 0.55796896],\n",
       "       [0.68137665, 0.31862335],\n",
       "       [0.71182587, 0.28817413],\n",
       "       [0.68560455, 0.31439545],\n",
       "       [0.68128812, 0.31871188],\n",
       "       [0.72786013, 0.27213987],\n",
       "       [0.24072214, 0.75927786],\n",
       "       [0.32828024, 0.67171976],\n",
       "       [0.63548775, 0.36451225],\n",
       "       [0.63308631, 0.36691369],\n",
       "       [0.67936331, 0.32063669],\n",
       "       [0.69367682, 0.30632318],\n",
       "       [0.67969561, 0.32030439],\n",
       "       [0.6683605 , 0.3316395 ],\n",
       "       [0.73485561, 0.26514439],\n",
       "       [0.61740287, 0.38259713],\n",
       "       [0.69860986, 0.30139014],\n",
       "       [0.51730588, 0.48269412],\n",
       "       [0.2017625 , 0.7982375 ],\n",
       "       [0.70117495, 0.29882505],\n",
       "       [0.70378248, 0.29621752],\n",
       "       [0.31912804, 0.68087196],\n",
       "       [0.47567038, 0.52432962],\n",
       "       [0.73029837, 0.26970163],\n",
       "       [0.59164424, 0.40835576],\n",
       "       [0.61129232, 0.38870768],\n",
       "       [0.54970439, 0.45029561],\n",
       "       [0.27332465, 0.72667535],\n",
       "       [0.2213106 , 0.7786894 ],\n",
       "       [0.66837407, 0.33162593],\n",
       "       [0.63893683, 0.36106317],\n",
       "       [0.71099681, 0.28900319],\n",
       "       [0.68404267, 0.31595733],\n",
       "       [0.70904433, 0.29095567],\n",
       "       [0.71076698, 0.28923302],\n",
       "       [0.71686359, 0.28313641],\n",
       "       [0.67752147, 0.32247853],\n",
       "       [0.72081115, 0.27918885],\n",
       "       [0.36300281, 0.63699719],\n",
       "       [0.22884571, 0.77115429],\n",
       "       [0.73523885, 0.26476115],\n",
       "       [0.70220937, 0.29779063],\n",
       "       [0.37797942, 0.62202058],\n",
       "       [0.57461266, 0.42538734],\n",
       "       [0.71610578, 0.28389422],\n",
       "       [0.70715603, 0.29284397],\n",
       "       [0.71117136, 0.28882864],\n",
       "       [0.21813612, 0.78186388],\n",
       "       [0.68693342, 0.31306658],\n",
       "       [0.66173192, 0.33826808],\n",
       "       [0.68123289, 0.31876711],\n",
       "       [0.70694564, 0.29305436],\n",
       "       [0.6839329 , 0.3160671 ],\n",
       "       [0.68355482, 0.31644518],\n",
       "       [0.64140521, 0.35859479],\n",
       "       [0.65299648, 0.34700352],\n",
       "       [0.70979028, 0.29020972],\n",
       "       [0.71936236, 0.28063764]])"
      ]
     },
     "execution_count": 50,
     "metadata": {},
     "output_type": "execute_result"
    }
   ],
   "source": [
    "y_pred1"
   ]
  },
  {
   "cell_type": "code",
   "execution_count": null,
   "metadata": {},
   "outputs": [],
   "source": []
  }
 ],
 "metadata": {
  "hide_input": false,
  "kernelspec": {
   "display_name": "Python 3",
   "language": "python",
   "name": "python3"
  },
  "language_info": {
   "codemirror_mode": {
    "name": "ipython",
    "version": 3
   },
   "file_extension": ".py",
   "mimetype": "text/x-python",
   "name": "python",
   "nbconvert_exporter": "python",
   "pygments_lexer": "ipython3",
   "version": "3.8.3"
  }
 },
 "nbformat": 4,
 "nbformat_minor": 4
}

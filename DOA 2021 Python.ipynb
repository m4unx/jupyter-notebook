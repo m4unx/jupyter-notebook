{
 "cells": [
  {
   "cell_type": "code",
   "execution_count": 1,
   "metadata": {},
   "outputs": [],
   "source": [
    "import pandas as pd\n",
    "import numpy as np\n",
    "import os"
   ]
  },
  {
   "cell_type": "code",
   "execution_count": 2,
   "metadata": {},
   "outputs": [
    {
     "data": {
      "text/plain": [
       "'C:\\\\Users\\\\S54201'"
      ]
     },
     "execution_count": 2,
     "metadata": {},
     "output_type": "execute_result"
    }
   ],
   "source": [
    "pwd ()"
   ]
  },
  {
   "cell_type": "code",
   "execution_count": 3,
   "metadata": {},
   "outputs": [
    {
     "data": {
      "text/plain": [
       "'C:\\\\Users\\\\S54201'"
      ]
     },
     "execution_count": 3,
     "metadata": {},
     "output_type": "execute_result"
    }
   ],
   "source": [
    "os.getcwd() #get current dir using os"
   ]
  },
  {
   "cell_type": "code",
   "execution_count": 4,
   "metadata": {},
   "outputs": [],
   "source": [
    "os.chdir(r'D:\\CAP\\DOA\\DOA 2021\\DOA 2021 Data') #change directory with obsolute r infront of the path"
   ]
  },
  {
   "cell_type": "code",
   "execution_count": 5,
   "metadata": {},
   "outputs": [
    {
     "data": {
      "text/plain": [
       "'D:\\\\CAP\\\\DOA\\\\DOA 2021\\\\DOA 2021 Data'"
      ]
     },
     "execution_count": 5,
     "metadata": {},
     "output_type": "execute_result"
    }
   ],
   "source": [
    "os.getcwd() #get current dir using os"
   ]
  },
  {
   "cell_type": "code",
   "execution_count": 6,
   "metadata": {},
   "outputs": [],
   "source": [
    "pd.set_option('display.max_columns', None) #display max column\n",
    "pd.set_option('display.max_rows', None) #limit display rows"
   ]
  },
  {
   "cell_type": "code",
   "execution_count": 7,
   "metadata": {},
   "outputs": [],
   "source": [
    "pbi = pd.read_excel('DOA2021output.xlsx')"
   ]
  },
  {
   "cell_type": "code",
   "execution_count": 8,
   "metadata": {},
   "outputs": [
    {
     "data": {
      "text/plain": [
       "(20651, 14)"
      ]
     },
     "execution_count": 8,
     "metadata": {},
     "output_type": "execute_result"
    }
   ],
   "source": [
    "pbi.shape"
   ]
  },
  {
   "cell_type": "code",
   "execution_count": 9,
   "metadata": {},
   "outputs": [
    {
     "data": {
      "text/html": [
       "<div>\n",
       "<style scoped>\n",
       "    .dataframe tbody tr th:only-of-type {\n",
       "        vertical-align: middle;\n",
       "    }\n",
       "\n",
       "    .dataframe tbody tr th {\n",
       "        vertical-align: top;\n",
       "    }\n",
       "\n",
       "    .dataframe thead th {\n",
       "        text-align: right;\n",
       "    }\n",
       "</style>\n",
       "<table border=\"1\" class=\"dataframe\">\n",
       "  <thead>\n",
       "    <tr style=\"text-align: right;\">\n",
       "      <th></th>\n",
       "      <th>Pers. No</th>\n",
       "      <th>Full Name</th>\n",
       "      <th>Email</th>\n",
       "      <th>EE Group Desc</th>\n",
       "      <th>CoCode</th>\n",
       "      <th>LOB Name</th>\n",
       "      <th>HR Division</th>\n",
       "      <th>Name</th>\n",
       "      <th>EE subgrp</th>\n",
       "      <th>Name of EE SG</th>\n",
       "      <th>PS text</th>\n",
       "      <th>Description</th>\n",
       "      <th>IP Date</th>\n",
       "      <th>DOA Completion</th>\n",
       "    </tr>\n",
       "  </thead>\n",
       "  <tbody>\n",
       "    <tr>\n",
       "      <th>0</th>\n",
       "      <td>58210</td>\n",
       "      <td>Ahmad Khairi Bin Hj Ramlee</td>\n",
       "      <td>TM37538@TM.COM.MY</td>\n",
       "      <td>Permanent</td>\n",
       "      <td>1000</td>\n",
       "      <td>NaN</td>\n",
       "      <td>TM Wholesale</td>\n",
       "      <td>NaN</td>\n",
       "      <td>MG</td>\n",
       "      <td>Management</td>\n",
       "      <td>Kuala Lumpur</td>\n",
       "      <td>NaN</td>\n",
       "      <td>09.06.2021</td>\n",
       "      <td>Complete</td>\n",
       "    </tr>\n",
       "    <tr>\n",
       "      <th>1</th>\n",
       "      <td>51882</td>\n",
       "      <td>Nur Haslinda Binti Mohd Nasir</td>\n",
       "      <td>HASLINDA.NASIR@MMU.EDU.MY</td>\n",
       "      <td>Permanent</td>\n",
       "      <td>3201</td>\n",
       "      <td>MMU</td>\n",
       "      <td>Multimedia University</td>\n",
       "      <td>ACADEMIC COMPLIANCE &amp; REGULATION</td>\n",
       "      <td>EX</td>\n",
       "      <td>Executives</td>\n",
       "      <td>Bukit Beruang</td>\n",
       "      <td>ACADEMIC COMPLIANCE &amp; REGULATION - CJ</td>\n",
       "      <td>06.07.2021</td>\n",
       "      <td>Complete</td>\n",
       "    </tr>\n",
       "    <tr>\n",
       "      <th>2</th>\n",
       "      <td>51895</td>\n",
       "      <td>Siti Nur'Ain Binti Ab Aziz</td>\n",
       "      <td>NURAIN.AZIZ@MMU.EDU.MY</td>\n",
       "      <td>Permanent</td>\n",
       "      <td>3201</td>\n",
       "      <td>MMU</td>\n",
       "      <td>Multimedia University</td>\n",
       "      <td>ACADEMIC COMPLIANCE &amp; REGULATION</td>\n",
       "      <td>MG</td>\n",
       "      <td>Management</td>\n",
       "      <td>Bukit Beruang</td>\n",
       "      <td>ACADEMIC COMPLIANCE &amp; REGULATION - MK</td>\n",
       "      <td>28.06.2021</td>\n",
       "      <td>Complete</td>\n",
       "    </tr>\n",
       "    <tr>\n",
       "      <th>3</th>\n",
       "      <td>51925</td>\n",
       "      <td>Siti Bashirah Binti Mohamed Yusof</td>\n",
       "      <td>BASHIRAH.YUSOF@MMU.EDU.MY</td>\n",
       "      <td>Permanent</td>\n",
       "      <td>3201</td>\n",
       "      <td>MMU</td>\n",
       "      <td>Multimedia University</td>\n",
       "      <td>ACADEMIC COMPLIANCE &amp; REGULATION</td>\n",
       "      <td>EX</td>\n",
       "      <td>Executives</td>\n",
       "      <td>Cyberjaya</td>\n",
       "      <td>ACADEMIC COMPLIANCE &amp; REGULATION - CJ</td>\n",
       "      <td>14.07.2021</td>\n",
       "      <td>Complete</td>\n",
       "    </tr>\n",
       "    <tr>\n",
       "      <th>4</th>\n",
       "      <td>52175</td>\n",
       "      <td>Maizlina Binti Sadikin</td>\n",
       "      <td>MAIZLINA.SADIKIN@MMU.EDU.MY</td>\n",
       "      <td>Permanent</td>\n",
       "      <td>3201</td>\n",
       "      <td>MMU</td>\n",
       "      <td>Multimedia University</td>\n",
       "      <td>ACADEMIC COMPLIANCE &amp; REGULATION</td>\n",
       "      <td>NE</td>\n",
       "      <td>Non Executive</td>\n",
       "      <td>Cyberjaya</td>\n",
       "      <td>ACADEMIC COMPLIANCE &amp; REGULATION - CJ</td>\n",
       "      <td>21.05.2021</td>\n",
       "      <td>Complete</td>\n",
       "    </tr>\n",
       "  </tbody>\n",
       "</table>\n",
       "</div>"
      ],
      "text/plain": [
       "   Pers. No                          Full Name                        Email  \\\n",
       "0     58210         Ahmad Khairi Bin Hj Ramlee            TM37538@TM.COM.MY   \n",
       "1     51882      Nur Haslinda Binti Mohd Nasir    HASLINDA.NASIR@MMU.EDU.MY   \n",
       "2     51895         Siti Nur'Ain Binti Ab Aziz       NURAIN.AZIZ@MMU.EDU.MY   \n",
       "3     51925  Siti Bashirah Binti Mohamed Yusof    BASHIRAH.YUSOF@MMU.EDU.MY   \n",
       "4     52175             Maizlina Binti Sadikin  MAIZLINA.SADIKIN@MMU.EDU.MY   \n",
       "\n",
       "  EE Group Desc  CoCode LOB Name            HR Division  \\\n",
       "0     Permanent    1000      NaN           TM Wholesale   \n",
       "1     Permanent    3201      MMU  Multimedia University   \n",
       "2     Permanent    3201      MMU  Multimedia University   \n",
       "3     Permanent    3201      MMU  Multimedia University   \n",
       "4     Permanent    3201      MMU  Multimedia University   \n",
       "\n",
       "                               Name EE subgrp  Name of EE SG        PS text  \\\n",
       "0                               NaN        MG     Management   Kuala Lumpur   \n",
       "1  ACADEMIC COMPLIANCE & REGULATION        EX     Executives  Bukit Beruang   \n",
       "2  ACADEMIC COMPLIANCE & REGULATION        MG     Management  Bukit Beruang   \n",
       "3  ACADEMIC COMPLIANCE & REGULATION        EX     Executives      Cyberjaya   \n",
       "4  ACADEMIC COMPLIANCE & REGULATION        NE  Non Executive      Cyberjaya   \n",
       "\n",
       "                             Description     IP Date DOA Completion  \n",
       "0                                    NaN  09.06.2021       Complete  \n",
       "1  ACADEMIC COMPLIANCE & REGULATION - CJ  06.07.2021       Complete  \n",
       "2  ACADEMIC COMPLIANCE & REGULATION - MK  28.06.2021       Complete  \n",
       "3  ACADEMIC COMPLIANCE & REGULATION - CJ  14.07.2021       Complete  \n",
       "4  ACADEMIC COMPLIANCE & REGULATION - CJ  21.05.2021       Complete  "
      ]
     },
     "execution_count": 9,
     "metadata": {},
     "output_type": "execute_result"
    }
   ],
   "source": [
    "pbi.head()"
   ]
  },
  {
   "cell_type": "code",
   "execution_count": 10,
   "metadata": {},
   "outputs": [
    {
     "data": {
      "text/plain": [
       "(20651,)"
      ]
     },
     "execution_count": 10,
     "metadata": {},
     "output_type": "execute_result"
    }
   ],
   "source": [
    "pbi['LOB Name'].shape"
   ]
  },
  {
   "cell_type": "code",
   "execution_count": 11,
   "metadata": {},
   "outputs": [
    {
     "data": {
      "text/plain": [
       "array([nan, 'MMU', 'TM ONE', 'NETWORK TECHNOLOGY', 'BUSINESS INNOVATION',\n",
       "       'WEBE DIGITAL', 'TMRND', 'CENTRAL FUNCTION', 'IT & DIGITAL',\n",
       "       'SUPPORT BUSINESS', 'UNIFI', 'TM WHOLESALE', 'CUSTOMER EXPERIENCE'],\n",
       "      dtype=object)"
      ]
     },
     "execution_count": 11,
     "metadata": {},
     "output_type": "execute_result"
    }
   ],
   "source": [
    "pbi['LOB Name'].unique()"
   ]
  },
  {
   "cell_type": "code",
   "execution_count": 12,
   "metadata": {},
   "outputs": [],
   "source": [
    "LOB = pbi['LOB Name'].unique()"
   ]
  },
  {
   "cell_type": "code",
   "execution_count": 13,
   "metadata": {
    "scrolled": true
   },
   "outputs": [
    {
     "data": {
      "text/plain": [
       "array([nan, 'MMU', 'TM ONE', 'NETWORK TECHNOLOGY', 'BUSINESS INNOVATION',\n",
       "       'WEBE DIGITAL', 'TMRND', 'CENTRAL FUNCTION', 'IT & DIGITAL',\n",
       "       'SUPPORT BUSINESS', 'UNIFI', 'TM WHOLESALE', 'CUSTOMER EXPERIENCE'],\n",
       "      dtype=object)"
      ]
     },
     "execution_count": 13,
     "metadata": {},
     "output_type": "execute_result"
    }
   ],
   "source": [
    "LOB"
   ]
  },
  {
   "cell_type": "markdown",
   "metadata": {},
   "source": [
    "# Save file according to LOB using lambda & map"
   ]
  },
  {
   "cell_type": "code",
   "execution_count": 14,
   "metadata": {},
   "outputs": [],
   "source": [
    "# f1 = lambda x: pbi[pbi['LOB Name'].isin([x])].to_csv(str(x)+'_new'+'.csv') #this will retrun error float + str as name of files must be all str. Thus we need to convert float into str."
   ]
  },
  {
   "cell_type": "code",
   "execution_count": 15,
   "metadata": {},
   "outputs": [],
   "source": [
    "f1 = lambda x: pbi[pbi['LOB Name'].isin([x])].to_csv(str(x)+'_new'+'.csv')"
   ]
  },
  {
   "cell_type": "code",
   "execution_count": 16,
   "metadata": {},
   "outputs": [],
   "source": [
    "save_files = map(f1,  LOB)"
   ]
  },
  {
   "cell_type": "code",
   "execution_count": 17,
   "metadata": {},
   "outputs": [
    {
     "data": {
      "text/plain": [
       "[None, None, None, None, None, None, None, None, None, None, None, None, None]"
      ]
     },
     "execution_count": 17,
     "metadata": {},
     "output_type": "execute_result"
    }
   ],
   "source": [
    "list(save_files)"
   ]
  },
  {
   "cell_type": "markdown",
   "metadata": {},
   "source": [
    "pbi_TMW = pbi[pbi['LOB Name'].isin(['TM WHOLESALE'])]\n",
    "pbi_SB = pbi[pbi['LOB Name'].isin(['SUPPORT BUSINESS'])]\n",
    "pbi_TMONE = pbi[pbi['LOB Name'].isin(['TM ONE'])]\n",
    "pbi_CX = pbi[pbi['LOB Name'].isin(['CUSTOMER EXPERIENCE'])]\n",
    "pbi_UNIFI = pbi[pbi['LOB Name'].isin(['UNIFI'])]\n",
    "pbi_TMRND = pbi[pbi['LOB Name'].isin(['TMRND'])]\n",
    "pbi_GNT = pbi[pbi['LOB Name'].isin(['NETWORK TECHNOLOGY'])]\n",
    "pbi_GITD = pbi[pbi['LOB Name'].isin(['IT & DIGITAL'])]\n",
    "pbi_CF = pbi[pbi['LOB Name'].isin(['CENTRAL FUNCTION'])]\n",
    "pbi_webe = pbi[pbi['LOB Name'].isin(['WEBE DIGITAL'])]\n",
    "pbi_MMU = pbi[pbi['LOB Name'].isin(['MMU'])]\n",
    "pbi_BIG = pbi[pbi['LOB Name'].isin(['BUSINESS INNOVATION'])]"
   ]
  },
  {
   "cell_type": "markdown",
   "metadata": {},
   "source": [
    "pbi_TMW.to_csv('pbi_TMW.csv')\n",
    "pbi_SB.to_csv('pbi_SB.csv')\n",
    "pbi_TMONE.to_csv('pbi_TMONE.csv')\n",
    "pbi_CX.to_csv('pbi_CX.csv')\n",
    "pbi_UNIFI.to_csv('pbi_UNIFI.csv')\n",
    "pbi_TMRND.to_csv('pbi_TMRND.csv')\n",
    "pbi_GNT.to_csv('pbi_GNT.csv')\n",
    "pbi_GITD.to_csv('pbi_GITD.csv')\n",
    "pbi_CF.to_csv('pbi_CF.csv')\n",
    "pbi_webe.to_csv('pbi_webe.csv')\n",
    "pbi_MMU.to_csv('pbi_MMU.csv')\n",
    "pbi_BIG.to_csv('pbi_BIG.csv')"
   ]
  }
 ],
 "metadata": {
  "kernelspec": {
   "display_name": "Python 3",
   "language": "python",
   "name": "python3"
  },
  "language_info": {
   "codemirror_mode": {
    "name": "ipython",
    "version": 3
   },
   "file_extension": ".py",
   "mimetype": "text/x-python",
   "name": "python",
   "nbconvert_exporter": "python",
   "pygments_lexer": "ipython3",
   "version": "3.8.3"
  }
 },
 "nbformat": 4,
 "nbformat_minor": 4
}
